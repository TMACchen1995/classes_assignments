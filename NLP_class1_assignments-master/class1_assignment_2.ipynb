{
 "cells": [
  {
   "cell_type": "markdown",
   "metadata": {},
   "source": [
    "# Sentence Generation"
   ]
  },
  {
   "cell_type": "code",
   "execution_count": 96,
   "metadata": {
    "collapsed": true
   },
   "outputs": [],
   "source": [
    "grammar = \"\"\"\n",
    "sentence => noun_phrase verb_phrase \n",
    "noun_phrase => Article Adj* noun\n",
    "Adj* => null | Adj Adj*\n",
    "verb_phrase => verb noun_phrase\n",
    "Article =>  一个 | 这个\n",
    "noun =>   女人 |  篮球 | 桌子 | 小猫\n",
    "verb => 看着   |  坐在 |  听着 | 看见\n",
    "Adj =>   蓝色的 |  好看的 | 小小的\n",
    "\"\"\""
   ]
  },
  {
   "cell_type": "code",
   "execution_count": 97,
   "metadata": {
    "collapsed": true
   },
   "outputs": [],
   "source": [
    "simple_calculator=\"\"\"\n",
    "formula = operator op operator op operator\n",
    "operator = num + num\n",
    "op = + | - | * | /\n",
    "num = 0|1|2|3|4|5|6|7|8|9|num num\n",
    "\n",
    "\"\"\"\n"
   ]
  },
  {
   "cell_type": "code",
   "execution_count": 98,
   "metadata": {
    "collapsed": true
   },
   "outputs": [],
   "source": [
    "import random"
   ]
  },
  {
   "cell_type": "code",
   "execution_count": 99,
   "metadata": {},
   "outputs": [
    {
     "name": "stdout",
     "output_type": "stream",
     "text": [
      "{'sentence': [['noun_phrase', 'verb_phrase']], 'noun_phrase': [['Article', 'Adj*', 'noun']], 'Adj*': [['null'], ['Adj', 'Adj*']], 'verb_phrase': [['verb', 'noun_phrase']], 'Article': [['一个'], ['这个']], 'noun': [['女人'], ['篮球'], ['桌子'], ['小猫']], 'verb': [['看着'], ['坐在'], ['听着'], ['看见']], 'Adj': [['蓝色的'], ['好看的'], ['小小的']]}\n"
     ]
    }
   ],
   "source": [
    "def parse_grammar(grammars,sep=\"=>\"):\n",
    "    grammar={}\n",
    "    for lines in grammars.splitlines():\n",
    "        lines=lines.strip()\n",
    "        if not lines: continue\n",
    "\n",
    "        targets,rules=lines.split(sep)\n",
    "      \n",
    "        grammar[targets.strip()]=[r.split() for r in rules.split(\"|\")]\n",
    "        \n",
    "    return grammar\n",
    "\n",
    "g=parse_grammar(grammar)\n",
    "print(g)"
   ]
  },
  {
   "cell_type": "code",
   "execution_count": 100,
   "metadata": {},
   "outputs": [
    {
     "name": "stdout",
     "output_type": "stream",
     "text": [
      "一个小小的女人听着一个桌子\n"
     ]
    }
   ],
   "source": [
    "def generator(grammar_parsed,targets=\"sentence\"):\n",
    "    if targets not in grammar_parsed: return targets\n",
    "    rule=random.choice(grammar_parsed[targets])\n",
    "    return \"\".join(generator(grammar_parsed,targets=r) for r in rule if r != \"null\")\n",
    "\n",
    "print(generator(g))"
   ]
  },
  {
   "cell_type": "code",
   "execution_count": 101,
   "metadata": {},
   "outputs": [
    {
     "name": "stdout",
     "output_type": "stream",
     "text": [
      "6+5*5+7-7+3\n",
      "7+60+1+7/9+6\n",
      "9+6+6+8+0+9\n",
      "5+8/9+9-2+2\n",
      "9+87-2+9/0+8\n",
      "9+3-7+4/5+7\n",
      "6+0/4+5-9+6\n",
      "5+41+4+6*0+8\n",
      "7+5+5+0/6+18876\n"
     ]
    }
   ],
   "source": [
    "for i in range(9):\n",
    "    print(generator(parse_grammar(simple_calculator,sep=\"=\"),targets=\"formula\"))"
   ]
  }
 ],
 "metadata": {
  "kernelspec": {
   "display_name": "Python 3",
   "language": "python",
   "name": "python3"
  },
  "language_info": {
   "codemirror_mode": {
    "name": "ipython",
    "version": 3
   },
   "file_extension": ".py",
   "mimetype": "text/x-python",
   "name": "python",
   "nbconvert_exporter": "python",
   "pygments_lexer": "ipython3",
   "version": "3.6.0"
  }
 },
 "nbformat": 4,
 "nbformat_minor": 2
}
