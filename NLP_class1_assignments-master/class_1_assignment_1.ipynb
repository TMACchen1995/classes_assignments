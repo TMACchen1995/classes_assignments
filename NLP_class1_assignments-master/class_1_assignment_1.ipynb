{
 "cells": [
  {
   "cell_type": "markdown",
   "metadata": {},
   "source": [
    "# Map Serach\n",
    "\n"
   ]
  },
  {
   "cell_type": "markdown",
   "metadata": {},
   "source": [
    "* Example1 BFS(广度优先搜索)"
   ]
  },
  {
   "cell_type": "code",
   "execution_count": 2,
   "metadata": {
    "scrolled": true
   },
   "outputs": [
    {
     "name": "stderr",
     "output_type": "stream",
     "text": [
      "D:\\Users\\csx\\Anaconda3\\lib\\site-packages\\networkx\\drawing\\nx_pylab.py:126: MatplotlibDeprecationWarning: pyplot.hold is deprecated.\n",
      "    Future behavior will be consistent with the long-time default:\n",
      "    plot commands add elements without first clearing the\n",
      "    Axes and/or Figure.\n",
      "  b = plt.ishold()\n",
      "D:\\Users\\csx\\Anaconda3\\lib\\site-packages\\networkx\\drawing\\nx_pylab.py:138: MatplotlibDeprecationWarning: pyplot.hold is deprecated.\n",
      "    Future behavior will be consistent with the long-time default:\n",
      "    plot commands add elements without first clearing the\n",
      "    Axes and/or Figure.\n",
      "  plt.hold(b)\n",
      "D:\\Users\\csx\\Anaconda3\\lib\\site-packages\\matplotlib\\__init__.py:917: UserWarning: axes.hold is deprecated. Please remove it from your matplotlibrc and/or style files.\n",
      "  warnings.warn(self.msg_depr_set % key)\n",
      "D:\\Users\\csx\\Anaconda3\\lib\\site-packages\\matplotlib\\rcsetup.py:152: UserWarning: axes.hold is deprecated, will be removed in 3.0\n",
      "  warnings.warn(\"axes.hold is deprecated, will be removed in 3.0\")\n"
     ]
    },
    {
     "data": {
      "image/png": "[encoded data removed]",
      "text/plain": [
       "<matplotlib.figure.Figure at 0x9aa24b0>"
      ]
     },
     "metadata": {},
     "output_type": "display_data"
    }
   ],
   "source": [
    "import networkx as nx\n",
    "\n",
    "'''城市之间的航班通行路线情况'''\n",
    "CHANGCHUN,BEIJING,WULUMUQI,SHANGHAI,NEWYORK,WUHAN,SHENZHEN,MANGU,GUANGZHOU=\"\"\"CHANGCHUN BEIJING WULUMUQI SHANGHAI NEWYORK WUHAN \n",
    "SHENZHEN MANGU GUANGZHOU\"\"\".split()\n",
    "\n",
    "collection={\n",
    "    CHANGCHUN:[BEIJING],\n",
    "    WULUMUQI:[BEIJING],\n",
    "    BEIJING:[CHANGCHUN,WULUMUQI,NEWYORK,WUHAN,SHENZHEN],\n",
    "    NEWYORK:[BEIJING,SHANGHAI],\n",
    "    SHANGHAI:[WUHAN,NEWYORK],\n",
    "    WUHAN:[BEIJING,GUANGZHOU],\n",
    "    SHENZHEN:[WUHAN,MANGU],\n",
    "    GUANGZHOU:[WUHAN,MANGU],\n",
    "    MANGU:[SHENZHEN,GUANGZHOU]\n",
    "            \n",
    "}\n",
    "\n",
    "%matplotlib inline\n",
    "nx.draw(nx.Graph(collection))"
   ]
  },
  {
   "cell_type": "code",
   "execution_count": 9,
   "metadata": {},
   "outputs": [
    {
     "name": "stdout",
     "output_type": "stream",
     "text": [
      "WULUMUQI -> BEIJING -> SHENZHEN -> MANGU\n"
     ]
    }
   ],
   "source": [
    "def navigator(start,destination,collection_graph):\n",
    "    \"\"\"\n",
    "    \n",
    "    思想：BFS（Breadth First Search，广度优先搜索），最开始很火，但现在的话由于已经很成熟，而且在数据比较大的情况下，serach的情况太多这样的一个固有的缺陷的，\n",
    "    所以现在不火\n",
    "    该程序实现在一堆地点中如何选出从A到B的最短路径，限于对数据点比较小的情况，大了的话要考虑的情况太多！,经过多次优化，\n",
    "    从最开始的路线中出现多个同样的地点，到删除重复重复地点，到记录路线，到得到两点之间对短的路线！\n",
    "    \n",
    "    \n",
    "    \"\"\"\n",
    "    pathes=[[start]]   #为啥要两个中括号呢？为后面的pop(0)设定的，即pathes中的元素还是list，pathes是所有可能性路线的集合。\n",
    "    seen=set()\n",
    "    \n",
    "    while pathes:\n",
    "        path=pathes.pop(0) #始终弹出的是pathes中第一个元素，也即最短的元素，弹出之后，pathes中便会失去该元素！\n",
    "        frontiers=path[-1] #path中最后一个元素，用来找寻他的下一个位置。\n",
    "        \n",
    "        if frontiers in seen: continue  #这一句很重要，因为，在所有的pathes的元素中，\n",
    "                                        #很有可能出现这样的情况:[A,B,C,A]即路线回来了，所以要排除这样的情况，\n",
    "                                        #一旦遇到frontoiers于path中其他的元素相同时，则pathes中的第二个元素会赋给path，再重新判断，\n",
    "                                        #只到frontiers没有在path中出现过。\n",
    "            \n",
    "        successors=collection_graph[frontiers] #successors是个List\n",
    "        for i in successors:\n",
    "            if i==destination:\n",
    "                path.append(i)\n",
    "                return path\n",
    "            else:\n",
    "                pathes.append(path+[i])\n",
    "                \n",
    "        pathes=sorted(pathes,key=len)  #按长短排序，所以最短的路线会被放到第一个元素的位置。\n",
    "        \n",
    "        seen.add(frontiers)   #将frontiers加入到seen中，set添加元素用add\n",
    "        \n",
    "        \n",
    "        \n",
    "        \n",
    "def draw_route(route):\n",
    "    print(' -> '.join(route))\n",
    "    \n",
    "draw_route(navigator(WULUMUQI,MANGU,collection)) #navigator返回的是一个元素为str的List。\n",
    "                \n"
   ]
  },
  {
   "cell_type": "code",
   "execution_count": 7,
   "metadata": {},
   "outputs": [
    {
     "name": "stdout",
     "output_type": "stream",
     "text": [
      "Requirement already satisfied: icecream in d:\\users\\csx\\anaconda3\\lib\\site-packages (1.4.0)\n",
      "Requirement already satisfied: pygments>=2.2.0 in d:\\users\\csx\\anaconda3\\lib\\site-packages (from icecream) (2.2.0)\n",
      "Requirement already satisfied: colorama>=0.3.9 in d:\\users\\csx\\anaconda3\\lib\\site-packages (from icecream) (0.3.9)\n",
      "Requirement already satisfied: untokenize>=0.1.1 in d:\\users\\csx\\anaconda3\\lib\\site-packages (from icecream) (0.1.1)\n"
     ]
    },
    {
     "name": "stderr",
     "output_type": "stream",
     "text": [
      "You are using pip version 18.1, however version 19.0.3 is available.\n",
      "You should consider upgrading via the 'python -m pip install --upgrade pip' command.\n"
     ]
    }
   ],
   "source": [
    "! pip install icecream   #jupyter里居然可以安装包\n"
   ]
  },
  {
   "cell_type": "markdown",
   "metadata": {},
   "source": [
    "* Example2 DFS（深度优先搜索），以及BFS和DFS之间的区别"
   ]
  },
  {
   "cell_type": "code",
   "execution_count": 21,
   "metadata": {},
   "outputs": [
    {
     "name": "stderr",
     "output_type": "stream",
     "text": [
      "D:\\Users\\csx\\Anaconda3\\lib\\site-packages\\networkx\\drawing\\nx_pylab.py:126: MatplotlibDeprecationWarning: pyplot.hold is deprecated.\n",
      "    Future behavior will be consistent with the long-time default:\n",
      "    plot commands add elements without first clearing the\n",
      "    Axes and/or Figure.\n",
      "  b = plt.ishold()\n",
      "D:\\Users\\csx\\Anaconda3\\lib\\site-packages\\networkx\\drawing\\nx_pylab.py:138: MatplotlibDeprecationWarning: pyplot.hold is deprecated.\n",
      "    Future behavior will be consistent with the long-time default:\n",
      "    plot commands add elements without first clearing the\n",
      "    Axes and/or Figure.\n",
      "  plt.hold(b)\n",
      "D:\\Users\\csx\\Anaconda3\\lib\\site-packages\\matplotlib\\__init__.py:917: UserWarning: axes.hold is deprecated. Please remove it from your matplotlibrc and/or style files.\n",
      "  warnings.warn(self.msg_depr_set % key)\n",
      "D:\\Users\\csx\\Anaconda3\\lib\\site-packages\\matplotlib\\rcsetup.py:152: UserWarning: axes.hold is deprecated, will be removed in 3.0\n",
      "  warnings.warn(\"axes.hold is deprecated, will be removed in 3.0\")\n"
     ]
    },
    {
     "data": {
      "image/png": "[encoded data removed]",
      "text/plain": [
       "<matplotlib.figure.Figure at 0x1799bd0>"
      ]
     },
     "metadata": {},
     "output_type": "display_data"
    }
   ],
   "source": [
    "collection_2={\n",
    "    3:[1,4],\n",
    "    4:[3,5],\n",
    "    5:[4,6],\n",
    "    6:[5,7],\n",
    "    1:[3,2],\n",
    "    7:[6],\n",
    "    2:[1]       \n",
    "}\n",
    "\n",
    "nx.draw(nx.Graph(collection_2))\n"
   ]
  },
  {
   "cell_type": "code",
   "execution_count": 37,
   "metadata": {},
   "outputs": [
    {
     "name": "stdout",
     "output_type": "stream",
     "text": [
      "i'm standing in 3,looking forward [1, 4]\n",
      "[1, 4]\n",
      "i'm standing in 1,looking forward [3, 2]\n",
      "[4, 3, 2]\n",
      "i'm standing in 4,looking forward [3, 5]\n",
      "[3, 2, 3, 5]\n",
      "i'm standing in 2,looking forward [1]\n",
      "[3, 5, 1]\n",
      "i'm standing in 5,looking forward [4, 6]\n",
      "[1, 4, 6]\n",
      "i'm standing in 6,looking forward [5, 7]\n",
      "[5, 7]\n",
      "i'm standing in 7,looking forward [6]\n",
      "[6]\n"
     ]
    }
   ],
   "source": [
    "def BFS(start,destination,collection_graph):\n",
    "    '''\n",
    "    这次的程序简写了，没有实现最短路径，和路线的记录功能\n",
    "    \n",
    "    '''\n",
    "    \n",
    "    pathes=[start]\n",
    "    seen=set()\n",
    "    \n",
    "    while pathes:\n",
    "        frontiers=pathes.pop(0)\n",
    "\n",
    "\n",
    "        if frontiers in seen: continue\n",
    "\n",
    "        successors=collection_graph[frontiers]\n",
    "        print(\"i'm standing in {},looking forward {}\".format(frontiers,successors))\n",
    "        pathes=pathes+successors   #BFS 和 DFS代码唯一的区别， 看successors加的位置。 BFS先广度，在纵深，DFS反之！ 观察各自的pathes即可发现！\n",
    "        print(pathes)\n",
    "        \n",
    "        seen.add(frontiers)\n",
    "    \n",
    "    \n",
    "BFS(3,7,collection_2)\n"
   ]
  },
  {
   "cell_type": "code",
   "execution_count": 36,
   "metadata": {},
   "outputs": [
    {
     "name": "stdout",
     "output_type": "stream",
     "text": [
      "i'm standing in 3,looking forward [1, 4]\n",
      "[1, 4]\n",
      "i'm standing in 1,looking forward [3, 2]\n",
      "[3, 2, 4]\n",
      "i'm standing in 2,looking forward [1]\n",
      "[1, 4]\n",
      "i'm standing in 4,looking forward [3, 5]\n",
      "[3, 5]\n",
      "i'm standing in 5,looking forward [4, 6]\n",
      "[4, 6]\n",
      "i'm standing in 6,looking forward [5, 7]\n",
      "[5, 7]\n",
      "i'm standing in 7,looking forward [6]\n",
      "[6]\n"
     ]
    }
   ],
   "source": [
    "def DFS(start,destination,collection_graph):\n",
    "    '''\n",
    "    这次的程序简写了，没有实现最短路径，和路线的记录功能\n",
    "    \n",
    "    '''\n",
    "    \n",
    "    pathes=[start]\n",
    "    seen=set()\n",
    "    \n",
    "    while pathes:\n",
    "        frontiers=pathes.pop(0)\n",
    "\n",
    "\n",
    "        if frontiers in seen: continue\n",
    "\n",
    "        successors=collection_graph[frontiers]\n",
    "        print(\"i'm standing in {},looking forward {}\".format(frontiers,successors))\n",
    "        pathes=successors+pathes\n",
    "        print(pathes)\n",
    "        \n",
    "        seen.add(frontiers)\n",
    "    \n",
    "    \n",
    "DFS(3,7,collection_2)"
   ]
  },
  {
   "cell_type": "code",
   "execution_count": 40,
   "metadata": {},
   "outputs": [],
   "source": []
  }
 ],
 "metadata": {
  "kernelspec": {
   "display_name": "Python 3",
   "language": "python",
   "name": "python3"
  },
  "language_info": {
   "codemirror_mode": {
    "name": "ipython",
    "version": 3
   },
   "file_extension": ".py",
   "mimetype": "text/x-python",
   "name": "python",
   "nbconvert_exporter": "python",
   "pygments_lexer": "ipython3",
   "version": "3.6.0"
  }
 },
 "nbformat": 4,
 "nbformat_minor": 2
}
