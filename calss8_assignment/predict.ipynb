{
 "cells": [
  {
   "cell_type": "code",
   "execution_count": 2,
   "metadata": {},
   "outputs": [],
   "source": [
    "from sklearn.externals import joblib\n",
    "import pandas as pd\n"
   ]
  },
  {
   "cell_type": "code",
   "execution_count": 3,
   "metadata": {},
   "outputs": [],
   "source": [
    "test_indices = pd.read_csv('./test_indices.csv')"
   ]
  },
  {
   "cell_type": "code",
   "execution_count": 4,
   "metadata": {},
   "outputs": [
    {
     "data": {
      "text/html": [
       "<div>\n",
       "<style scoped>\n",
       "    .dataframe tbody tr th:only-of-type {\n",
       "        vertical-align: middle;\n",
       "    }\n",
       "\n",
       "    .dataframe tbody tr th {\n",
       "        vertical-align: top;\n",
       "    }\n",
       "\n",
       "    .dataframe thead th {\n",
       "        text-align: right;\n",
       "    }\n",
       "</style>\n",
       "<table border=\"1\" class=\"dataframe\">\n",
       "  <thead>\n",
       "    <tr style=\"text-align: right;\">\n",
       "      <th></th>\n",
       "      <th>Unnamed: 0</th>\n",
       "      <th>0</th>\n",
       "    </tr>\n",
       "  </thead>\n",
       "  <tbody>\n",
       "    <tr>\n",
       "      <th>0</th>\n",
       "      <td>0</td>\n",
       "      <td>55463</td>\n",
       "    </tr>\n",
       "    <tr>\n",
       "      <th>1</th>\n",
       "      <td>1</td>\n",
       "      <td>56901</td>\n",
       "    </tr>\n",
       "    <tr>\n",
       "      <th>2</th>\n",
       "      <td>2</td>\n",
       "      <td>25599</td>\n",
       "    </tr>\n",
       "    <tr>\n",
       "      <th>3</th>\n",
       "      <td>3</td>\n",
       "      <td>17475</td>\n",
       "    </tr>\n",
       "    <tr>\n",
       "      <th>4</th>\n",
       "      <td>4</td>\n",
       "      <td>44847</td>\n",
       "    </tr>\n",
       "  </tbody>\n",
       "</table>\n",
       "</div>"
      ],
      "text/plain": [
       "   Unnamed: 0      0\n",
       "0           0  55463\n",
       "1           1  56901\n",
       "2           2  25599\n",
       "3           3  17475\n",
       "4           4  44847"
      ]
     },
     "execution_count": 4,
     "metadata": {},
     "output_type": "execute_result"
    }
   ],
   "source": [
    "test_indices.head()"
   ]
  },
  {
   "cell_type": "code",
   "execution_count": 5,
   "metadata": {},
   "outputs": [],
   "source": [
    "test_indices = test_indices.drop(['Unnamed: 0'], axis=1)"
   ]
  },
  {
   "cell_type": "code",
   "execution_count": 6,
   "metadata": {},
   "outputs": [],
   "source": [
    "test_indices = test_indices.values"
   ]
  },
  {
   "cell_type": "code",
   "execution_count": 7,
   "metadata": {},
   "outputs": [],
   "source": [
    "X_test = pd.read_csv('X_test.csv',na_filter=False)"
   ]
  },
  {
   "cell_type": "code",
   "execution_count": 8,
   "metadata": {},
   "outputs": [],
   "source": [
    "X_test = X_test.drop(columns=['Unnamed: 0'])\n"
   ]
  },
  {
   "cell_type": "code",
   "execution_count": 9,
   "metadata": {},
   "outputs": [
    {
     "data": {
      "text/html": [
       "<div>\n",
       "<style scoped>\n",
       "    .dataframe tbody tr th:only-of-type {\n",
       "        vertical-align: middle;\n",
       "    }\n",
       "\n",
       "    .dataframe tbody tr th {\n",
       "        vertical-align: top;\n",
       "    }\n",
       "\n",
       "    .dataframe thead th {\n",
       "        text-align: right;\n",
       "    }\n",
       "</style>\n",
       "<table border=\"1\" class=\"dataframe\">\n",
       "  <thead>\n",
       "    <tr style=\"text-align: right;\">\n",
       "      <th></th>\n",
       "      <th>0</th>\n",
       "      <th>1</th>\n",
       "      <th>2</th>\n",
       "      <th>3</th>\n",
       "      <th>4</th>\n",
       "      <th>5</th>\n",
       "      <th>6</th>\n",
       "      <th>7</th>\n",
       "      <th>8</th>\n",
       "      <th>9</th>\n",
       "      <th>...</th>\n",
       "      <th>34990</th>\n",
       "      <th>34991</th>\n",
       "      <th>34992</th>\n",
       "      <th>34993</th>\n",
       "      <th>34994</th>\n",
       "      <th>34995</th>\n",
       "      <th>34996</th>\n",
       "      <th>34997</th>\n",
       "      <th>34998</th>\n",
       "      <th>34999</th>\n",
       "    </tr>\n",
       "  </thead>\n",
       "  <tbody>\n",
       "    <tr>\n",
       "      <th>0</th>\n",
       "      <td>0.0</td>\n",
       "      <td>0.0</td>\n",
       "      <td>0.0</td>\n",
       "      <td>0.0</td>\n",
       "      <td>0.0</td>\n",
       "      <td>0.0</td>\n",
       "      <td>0.0</td>\n",
       "      <td>0.0</td>\n",
       "      <td>0.0</td>\n",
       "      <td>0.0</td>\n",
       "      <td>...</td>\n",
       "      <td>0.0</td>\n",
       "      <td>0.0</td>\n",
       "      <td>0.0</td>\n",
       "      <td>0.0</td>\n",
       "      <td>0.0</td>\n",
       "      <td>0.0</td>\n",
       "      <td>0.0</td>\n",
       "      <td>0.0</td>\n",
       "      <td>0.0</td>\n",
       "      <td>0.0</td>\n",
       "    </tr>\n",
       "    <tr>\n",
       "      <th>1</th>\n",
       "      <td>0.0</td>\n",
       "      <td>0.0</td>\n",
       "      <td>0.0</td>\n",
       "      <td>0.0</td>\n",
       "      <td>0.0</td>\n",
       "      <td>0.0</td>\n",
       "      <td>0.0</td>\n",
       "      <td>0.0</td>\n",
       "      <td>0.0</td>\n",
       "      <td>0.0</td>\n",
       "      <td>...</td>\n",
       "      <td>0.0</td>\n",
       "      <td>0.0</td>\n",
       "      <td>0.0</td>\n",
       "      <td>0.0</td>\n",
       "      <td>0.0</td>\n",
       "      <td>0.0</td>\n",
       "      <td>0.0</td>\n",
       "      <td>0.0</td>\n",
       "      <td>0.0</td>\n",
       "      <td>0.0</td>\n",
       "    </tr>\n",
       "    <tr>\n",
       "      <th>2</th>\n",
       "      <td>0.0</td>\n",
       "      <td>0.0</td>\n",
       "      <td>0.0</td>\n",
       "      <td>0.0</td>\n",
       "      <td>0.0</td>\n",
       "      <td>0.0</td>\n",
       "      <td>0.0</td>\n",
       "      <td>0.0</td>\n",
       "      <td>0.0</td>\n",
       "      <td>0.0</td>\n",
       "      <td>...</td>\n",
       "      <td>0.0</td>\n",
       "      <td>0.0</td>\n",
       "      <td>0.0</td>\n",
       "      <td>0.0</td>\n",
       "      <td>0.0</td>\n",
       "      <td>0.0</td>\n",
       "      <td>0.0</td>\n",
       "      <td>0.0</td>\n",
       "      <td>0.0</td>\n",
       "      <td>0.0</td>\n",
       "    </tr>\n",
       "    <tr>\n",
       "      <th>3</th>\n",
       "      <td>0.0</td>\n",
       "      <td>0.0</td>\n",
       "      <td>0.0</td>\n",
       "      <td>0.0</td>\n",
       "      <td>0.0</td>\n",
       "      <td>0.0</td>\n",
       "      <td>0.0</td>\n",
       "      <td>0.0</td>\n",
       "      <td>0.0</td>\n",
       "      <td>0.0</td>\n",
       "      <td>...</td>\n",
       "      <td>0.0</td>\n",
       "      <td>0.0</td>\n",
       "      <td>0.0</td>\n",
       "      <td>0.0</td>\n",
       "      <td>0.0</td>\n",
       "      <td>0.0</td>\n",
       "      <td>0.0</td>\n",
       "      <td>0.0</td>\n",
       "      <td>0.0</td>\n",
       "      <td>0.0</td>\n",
       "    </tr>\n",
       "    <tr>\n",
       "      <th>4</th>\n",
       "      <td>0.0</td>\n",
       "      <td>0.0</td>\n",
       "      <td>0.0</td>\n",
       "      <td>0.0</td>\n",
       "      <td>0.0</td>\n",
       "      <td>0.0</td>\n",
       "      <td>0.0</td>\n",
       "      <td>0.0</td>\n",
       "      <td>0.0</td>\n",
       "      <td>0.0</td>\n",
       "      <td>...</td>\n",
       "      <td>0.0</td>\n",
       "      <td>0.0</td>\n",
       "      <td>0.0</td>\n",
       "      <td>0.0</td>\n",
       "      <td>0.0</td>\n",
       "      <td>0.0</td>\n",
       "      <td>0.0</td>\n",
       "      <td>0.0</td>\n",
       "      <td>0.0</td>\n",
       "      <td>0.0</td>\n",
       "    </tr>\n",
       "  </tbody>\n",
       "</table>\n",
       "<p>5 rows × 35000 columns</p>\n",
       "</div>"
      ],
      "text/plain": [
       "     0    1    2    3    4    5    6    7    8    9  ...    34990  34991  \\\n",
       "0  0.0  0.0  0.0  0.0  0.0  0.0  0.0  0.0  0.0  0.0  ...      0.0    0.0   \n",
       "1  0.0  0.0  0.0  0.0  0.0  0.0  0.0  0.0  0.0  0.0  ...      0.0    0.0   \n",
       "2  0.0  0.0  0.0  0.0  0.0  0.0  0.0  0.0  0.0  0.0  ...      0.0    0.0   \n",
       "3  0.0  0.0  0.0  0.0  0.0  0.0  0.0  0.0  0.0  0.0  ...      0.0    0.0   \n",
       "4  0.0  0.0  0.0  0.0  0.0  0.0  0.0  0.0  0.0  0.0  ...      0.0    0.0   \n",
       "\n",
       "   34992  34993  34994  34995  34996  34997  34998  34999  \n",
       "0    0.0    0.0    0.0    0.0    0.0    0.0    0.0    0.0  \n",
       "1    0.0    0.0    0.0    0.0    0.0    0.0    0.0    0.0  \n",
       "2    0.0    0.0    0.0    0.0    0.0    0.0    0.0    0.0  \n",
       "3    0.0    0.0    0.0    0.0    0.0    0.0    0.0    0.0  \n",
       "4    0.0    0.0    0.0    0.0    0.0    0.0    0.0    0.0  \n",
       "\n",
       "[5 rows x 35000 columns]"
      ]
     },
     "execution_count": 9,
     "metadata": {},
     "output_type": "execute_result"
    }
   ],
   "source": [
    "X_test.head()"
   ]
  },
  {
   "cell_type": "code",
   "execution_count": 10,
   "metadata": {},
   "outputs": [],
   "source": [
    "X_test = X_test.values"
   ]
  },
  {
   "cell_type": "code",
   "execution_count": 11,
   "metadata": {},
   "outputs": [],
   "source": [
    "df = pd.read_csv('concated_dataset.csv')"
   ]
  },
  {
   "cell_type": "code",
   "execution_count": 12,
   "metadata": {},
   "outputs": [
    {
     "data": {
      "text/html": [
       "<div>\n",
       "<style scoped>\n",
       "    .dataframe tbody tr th:only-of-type {\n",
       "        vertical-align: middle;\n",
       "    }\n",
       "\n",
       "    .dataframe tbody tr th {\n",
       "        vertical-align: top;\n",
       "    }\n",
       "\n",
       "    .dataframe thead th {\n",
       "        text-align: right;\n",
       "    }\n",
       "</style>\n",
       "<table border=\"1\" class=\"dataframe\">\n",
       "  <thead>\n",
       "    <tr style=\"text-align: right;\">\n",
       "      <th></th>\n",
       "      <th>Unnamed: 0</th>\n",
       "      <th>content</th>\n",
       "      <th>label</th>\n",
       "    </tr>\n",
       "  </thead>\n",
       "  <tbody>\n",
       "    <tr>\n",
       "      <th>0</th>\n",
       "      <td>68600</td>\n",
       "      <td>新华社 照片 罗马 2017 年 5 月 20 日 n 体育 4 网球 意大利 公开赛 纳达...</td>\n",
       "      <td>1</td>\n",
       "    </tr>\n",
       "    <tr>\n",
       "      <th>1</th>\n",
       "      <td>57990</td>\n",
       "      <td>新华社 照片 外代 2017 年 5 月 11 日 n 外代 二线 庆祝 卫塞节 n5 月 ...</td>\n",
       "      <td>1</td>\n",
       "    </tr>\n",
       "    <tr>\n",
       "      <th>2</th>\n",
       "      <td>31908</td>\n",
       "      <td>新华社 照片 外代 2017 年 4 月 18 日 n 外代 二线 齐 波斯 马戏团 n4 ...</td>\n",
       "      <td>1</td>\n",
       "    </tr>\n",
       "    <tr>\n",
       "      <th>3</th>\n",
       "      <td>21077</td>\n",
       "      <td>新华社 照片 黔东南 贵州 2017 年 4 月 8 日 n 贵州 黎平 侗乡 秀 瑜伽 n...</td>\n",
       "      <td>1</td>\n",
       "    </tr>\n",
       "    <tr>\n",
       "      <th>4</th>\n",
       "      <td>11318</td>\n",
       "      <td>新华社 照片 外代 2017 年 3 月 31 日 n 外代 二线 南非 时装周 太阳神 品...</td>\n",
       "      <td>1</td>\n",
       "    </tr>\n",
       "  </tbody>\n",
       "</table>\n",
       "</div>"
      ],
      "text/plain": [
       "   Unnamed: 0                                            content  label\n",
       "0       68600  新华社 照片 罗马 2017 年 5 月 20 日 n 体育 4 网球 意大利 公开赛 纳达...      1\n",
       "1       57990  新华社 照片 外代 2017 年 5 月 11 日 n 外代 二线 庆祝 卫塞节 n5 月 ...      1\n",
       "2       31908  新华社 照片 外代 2017 年 4 月 18 日 n 外代 二线 齐 波斯 马戏团 n4 ...      1\n",
       "3       21077  新华社 照片 黔东南 贵州 2017 年 4 月 8 日 n 贵州 黎平 侗乡 秀 瑜伽 n...      1\n",
       "4       11318  新华社 照片 外代 2017 年 3 月 31 日 n 外代 二线 南非 时装周 太阳神 品...      1"
      ]
     },
     "execution_count": 12,
     "metadata": {},
     "output_type": "execute_result"
    }
   ],
   "source": [
    "df.head()"
   ]
  },
  {
   "cell_type": "code",
   "execution_count": 13,
   "metadata": {},
   "outputs": [],
   "source": [
    "df.index = df['Unnamed: 0'].values\n"
   ]
  },
  {
   "cell_type": "code",
   "execution_count": 14,
   "metadata": {},
   "outputs": [
    {
     "data": {
      "text/html": [
       "<div>\n",
       "<style scoped>\n",
       "    .dataframe tbody tr th:only-of-type {\n",
       "        vertical-align: middle;\n",
       "    }\n",
       "\n",
       "    .dataframe tbody tr th {\n",
       "        vertical-align: top;\n",
       "    }\n",
       "\n",
       "    .dataframe thead th {\n",
       "        text-align: right;\n",
       "    }\n",
       "</style>\n",
       "<table border=\"1\" class=\"dataframe\">\n",
       "  <thead>\n",
       "    <tr style=\"text-align: right;\">\n",
       "      <th></th>\n",
       "      <th>Unnamed: 0</th>\n",
       "      <th>content</th>\n",
       "      <th>label</th>\n",
       "    </tr>\n",
       "  </thead>\n",
       "  <tbody>\n",
       "    <tr>\n",
       "      <th>68600</th>\n",
       "      <td>68600</td>\n",
       "      <td>新华社 照片 罗马 2017 年 5 月 20 日 n 体育 4 网球 意大利 公开赛 纳达...</td>\n",
       "      <td>1</td>\n",
       "    </tr>\n",
       "    <tr>\n",
       "      <th>57990</th>\n",
       "      <td>57990</td>\n",
       "      <td>新华社 照片 外代 2017 年 5 月 11 日 n 外代 二线 庆祝 卫塞节 n5 月 ...</td>\n",
       "      <td>1</td>\n",
       "    </tr>\n",
       "    <tr>\n",
       "      <th>31908</th>\n",
       "      <td>31908</td>\n",
       "      <td>新华社 照片 外代 2017 年 4 月 18 日 n 外代 二线 齐 波斯 马戏团 n4 ...</td>\n",
       "      <td>1</td>\n",
       "    </tr>\n",
       "    <tr>\n",
       "      <th>21077</th>\n",
       "      <td>21077</td>\n",
       "      <td>新华社 照片 黔东南 贵州 2017 年 4 月 8 日 n 贵州 黎平 侗乡 秀 瑜伽 n...</td>\n",
       "      <td>1</td>\n",
       "    </tr>\n",
       "    <tr>\n",
       "      <th>11318</th>\n",
       "      <td>11318</td>\n",
       "      <td>新华社 照片 外代 2017 年 3 月 31 日 n 外代 二线 南非 时装周 太阳神 品...</td>\n",
       "      <td>1</td>\n",
       "    </tr>\n",
       "  </tbody>\n",
       "</table>\n",
       "</div>"
      ],
      "text/plain": [
       "       Unnamed: 0                                            content  label\n",
       "68600       68600  新华社 照片 罗马 2017 年 5 月 20 日 n 体育 4 网球 意大利 公开赛 纳达...      1\n",
       "57990       57990  新华社 照片 外代 2017 年 5 月 11 日 n 外代 二线 庆祝 卫塞节 n5 月 ...      1\n",
       "31908       31908  新华社 照片 外代 2017 年 4 月 18 日 n 外代 二线 齐 波斯 马戏团 n4 ...      1\n",
       "21077       21077  新华社 照片 黔东南 贵州 2017 年 4 月 8 日 n 贵州 黎平 侗乡 秀 瑜伽 n...      1\n",
       "11318       11318  新华社 照片 外代 2017 年 3 月 31 日 n 外代 二线 南非 时装周 太阳神 品...      1"
      ]
     },
     "execution_count": 14,
     "metadata": {},
     "output_type": "execute_result"
    }
   ],
   "source": [
    "df.head()"
   ]
  },
  {
   "cell_type": "code",
   "execution_count": 15,
   "metadata": {},
   "outputs": [],
   "source": [
    "df = df.drop(df.columns[0],axis =1)"
   ]
  },
  {
   "cell_type": "code",
   "execution_count": 16,
   "metadata": {},
   "outputs": [
    {
     "data": {
      "text/html": [
       "<div>\n",
       "<style scoped>\n",
       "    .dataframe tbody tr th:only-of-type {\n",
       "        vertical-align: middle;\n",
       "    }\n",
       "\n",
       "    .dataframe tbody tr th {\n",
       "        vertical-align: top;\n",
       "    }\n",
       "\n",
       "    .dataframe thead th {\n",
       "        text-align: right;\n",
       "    }\n",
       "</style>\n",
       "<table border=\"1\" class=\"dataframe\">\n",
       "  <thead>\n",
       "    <tr style=\"text-align: right;\">\n",
       "      <th></th>\n",
       "      <th>content</th>\n",
       "      <th>label</th>\n",
       "    </tr>\n",
       "  </thead>\n",
       "  <tbody>\n",
       "    <tr>\n",
       "      <th>68600</th>\n",
       "      <td>新华社 照片 罗马 2017 年 5 月 20 日 n 体育 4 网球 意大利 公开赛 纳达...</td>\n",
       "      <td>1</td>\n",
       "    </tr>\n",
       "    <tr>\n",
       "      <th>57990</th>\n",
       "      <td>新华社 照片 外代 2017 年 5 月 11 日 n 外代 二线 庆祝 卫塞节 n5 月 ...</td>\n",
       "      <td>1</td>\n",
       "    </tr>\n",
       "    <tr>\n",
       "      <th>31908</th>\n",
       "      <td>新华社 照片 外代 2017 年 4 月 18 日 n 外代 二线 齐 波斯 马戏团 n4 ...</td>\n",
       "      <td>1</td>\n",
       "    </tr>\n",
       "    <tr>\n",
       "      <th>21077</th>\n",
       "      <td>新华社 照片 黔东南 贵州 2017 年 4 月 8 日 n 贵州 黎平 侗乡 秀 瑜伽 n...</td>\n",
       "      <td>1</td>\n",
       "    </tr>\n",
       "    <tr>\n",
       "      <th>11318</th>\n",
       "      <td>新华社 照片 外代 2017 年 3 月 31 日 n 外代 二线 南非 时装周 太阳神 品...</td>\n",
       "      <td>1</td>\n",
       "    </tr>\n",
       "  </tbody>\n",
       "</table>\n",
       "</div>"
      ],
      "text/plain": [
       "                                                 content  label\n",
       "68600  新华社 照片 罗马 2017 年 5 月 20 日 n 体育 4 网球 意大利 公开赛 纳达...      1\n",
       "57990  新华社 照片 外代 2017 年 5 月 11 日 n 外代 二线 庆祝 卫塞节 n5 月 ...      1\n",
       "31908  新华社 照片 外代 2017 年 4 月 18 日 n 外代 二线 齐 波斯 马戏团 n4 ...      1\n",
       "21077  新华社 照片 黔东南 贵州 2017 年 4 月 8 日 n 贵州 黎平 侗乡 秀 瑜伽 n...      1\n",
       "11318  新华社 照片 外代 2017 年 3 月 31 日 n 外代 二线 南非 时装周 太阳神 品...      1"
      ]
     },
     "execution_count": 16,
     "metadata": {},
     "output_type": "execute_result"
    }
   ],
   "source": [
    "df.head()"
   ]
  },
  {
   "cell_type": "code",
   "execution_count": 17,
   "metadata": {},
   "outputs": [],
   "source": [
    "model_LinearSVC = joblib.load('LinearSVC.pkl')    "
   ]
  },
  {
   "cell_type": "code",
   "execution_count": 18,
   "metadata": {},
   "outputs": [
    {
     "name": "stdout",
     "output_type": "stream",
     "text": [
      "Please input a text's index(0-3000), i will judge whether the text is released from '新华社' or '新华网' or not, \n",
      "enter 'exit' to end the programe:56\n",
      "The text you choosed is:\n",
      "28018\n",
      "新华社 伦敦 ５ 月 ３ １ 日电 记者 桂涛 英国首相 特雷莎 梅因 没有 参加 ５ 月 ３ １ 日晚 的 大选 电视辩论 遭到 其他 党派 领导人 及 一些 选民 批评 称 她 不在乎 选民 太过 傲慢 n 英国 将 于 ６ 月 ８ 日 举行 大选 ５ 月 ３ １ 日晚 的 电视辩论 由 英国广播公司 组织 英国 反对党 工党 领导人 科尔 宾 独立党 领导人 纳托尔 自由民主党 领导人 法伦 等 均 参加 而梅 领导 的 保守党 只 派出 内政 大臣 拉德 此前 梅在 接受 媒体 采访 时 曾 表示 自己 在 考虑 脱欧 谈判 问题 无暇 参加 辩论 n 辩论 中 多个 党派 领袖 对 首相 缺席 辩论 进行批评 认为 她 不在乎 选民 太过 傲慢 缺乏 一名 领导者 的 素质 一些 英国 网民 也 认为 梅 拒绝 参加 辩论 是 对 选民 不 负责 n 民调 机构 Ｙ ｏ ｕ Ｇ ｏ ｖ ５ 月 ３ １ 日 公布 的 民调 显示 执政党 保守党 的 支持率 目前 仅 领先 反对党 工党 ３ 个 百分点 领先 幅度 较 今年 ４ 月梅 宣布 提前 举行 大选 时 的 １ ８ 个 百分点 已经 大大 缩小 n 分析 人士 认为 保守党 在 大选 宣言 中 提出 的 内政 政策 是 其 领先 优势 缩小 的 重要 原因 此前 该党 提出 让 更 多 老人 自己 掏钱 支付 养老 护理 费用 的 社保 政策 引起 较大 不满 导致 支持率 下降 完\n",
      "Predict answer: the text you choosed was released by '新华社' or '新华网'\n",
      "The ture label is 1\n",
      "\n",
      "\n",
      "Please input a text's index(0-3000), i will judge whether the text is released from '新华社' or '新华网' or not, \n",
      "enter 'exit' to end the programe:23235\n",
      "Please input integer between 0-3000\n",
      "\n",
      "\n",
      "Please input a text's index(0-3000), i will judge whether the text is released from '新华社' or '新华网' or not, \n",
      "enter 'exit' to end the programe:34\n",
      "The text you choosed is:\n",
      "55971\n",
      "新华社 照片 外代 2017 年 5 月 9 日 n 外代 二线 曼谷 宠物狗 马拉松 n5 月 7 日 在 泰国 首都 曼谷 狗 的 主 人们 与 爱犬 一起 跑 宠物狗 迷你 马拉松 n 新华社 路透\n",
      "Predict answer: the text you choosed was released by '新华社' or '新华网'\n",
      "The ture label is 1\n",
      "\n",
      "\n",
      "Please input a text's index(0-3000), i will judge whether the text is released from '新华社' or '新华网' or not, \n",
      "enter 'exit' to end the programe:53\n",
      "The text you choosed is:\n",
      "58193\n",
      "新华社 今日 重要 稿件 n １ 英超 赛季 落幕 阿森纳 ２ ０ 年 来 首次 无缘 欧冠 已 播发 约 １ １ ０ ０ 字 n ２ 西甲 尘埃落定 皇马 历史 第 ３ ３ 次 加冕 联赛 冠军 已 播发 约 ７ ０ ０ 字 n 新华社 体育新闻 编辑部 n ２ ０ １ ７ 年 ５ 月 ２ ２ 日 n\n",
      "Predict answer: the text you choosed was released by '新华社' or '新华网'\n",
      "The ture label is 1\n",
      "\n",
      "\n",
      "Please input a text's index(0-3000), i will judge whether the text is released from '新华社' or '新华网' or not, \n",
      "enter 'exit' to end the programe:454\n",
      "The text you choosed is:\n",
      "35111\n",
      "新华社 石家庄 5 月 21 日电 记者 范世辉 邺 城 考古 专家 近日 公开 披露 之前 在 邺 城 遗址 挖掘出 的 舍利 函 保存 完整 发现 可能 用于 盛放 舍利 的 长颈 玻璃 小瓶 以及 玛瑙 珠 白玉 髓 环 玉髓 珠 等 宝贝 初步 研究 确认 其为 我国 目前 保存 最 完整 的 舍利 函 之一 n 据介绍 舍利 函 发现 于 邺 城 遗址 核桃 园 1 号 基址 这里 是 北齐 皇家 佛寺 大 庄严 寺 佛塔 的 遗存 近 方形 的 舍利 函 位于 大 庄严 寺 塔基 基础 中心 夯土 面 23 米 的 下方 舍利 函 的 四角 外侧 分别 摆放 一个 青釉 小罐 南面 偏东 处 还有 一个 较大 的 青釉 罐 罐内 置放 各类 珠饰 n 舍利 函为 青石 质略 呈 正方体 由 函盖 和 函身 两 部分 组成 长 ４ ２ ５ ４ ４ 厘米 宽 ３ ６ ３ ８ 厘米 石函 通体 较为 粗糙 未经 打磨 有凿刻 痕迹 函 身上 边缘 四角 刻有 字迹 n 出土 石函 保存 完好 其 包括 相对 完整 器物 ９ ８ 件 有 残存 水银 的 长颈 玻璃瓶 有 圆形 椭圆形 和 棱 锥形 中部 穿孔 的 玛瑙 珠有 透明 的 白玉 髓 乳白色 圆形 的 玉髓 珠 和 无色 透明 的 水晶 半球 饰 还有 琥珀 珠 玻璃珠 铜簪 等等 n 舍利 函内 放置 物品 多 与 佛经 中 的 七宝 有关 而 长颈 玻璃 小瓶 可能 属于 舍利 瓶 小瓶 中所盛 水银 可以 理解 为 舍利 的 替代物 邺 城 考古队 专家 介绍 舍利 函是 佛教 圣物 是 盛放 佛祖 或 高僧 火化 后 尸骨 的 容器 是 极为 珍贵 的 文物 n 据 了解 舍利 函 最早 发现 于 2014 年 发现 后 随即 展开 挖掘 并 委托 国家 权威部门 对 发现 的 物品 进行 鉴定 直到 近日 考古 鉴定 的 有关 情况 才 被 详细 披露 n 邺 城 考古队 专家 介绍 目前 发现 的 与 舍利 埋藏 遗迹 或 遗物 有关 的 北朝 佛塔 塔基 中有 的 石函 虽未 被 盗掘 但 石函 与 塔基 营造 之间 的 关系 并 不 明确 有 的 则 因 盗掘 破坏 出土 遗物 寥寥 难以 了解 瘗 埋 与 营造 关系 瘗 埋 内涵 等 信息 大 庄严 寺 塔基 出土 的 舍利 石函 不仅 反映 了 方形 木塔 基础 部分 建筑 程序 与 埋藏 礼仪 之间 的 关系 其 出土 的 遗物 也 是 研究 中国 早期 佛塔 埋藏 制度 的 珍贵 资料 完此 稿 配有 图片\n",
      "Predict answer: the text you choosed was released by '新华社' or '新华网'\n",
      "The ture label is 1\n",
      "\n",
      "\n",
      "Please input a text's index(0-3000), i will judge whether the text is released from '新华社' or '新华网' or not, \n",
      "enter 'exit' to end the programe:657\n",
      "The text you choosed is:\n",
      "40567\n",
      "新华社 照片 外代 2017 年 5 月 2 日 n 外代 二线 波兰 举行 第 24 届 蒸汽机车 游行 n4 月 28 日 在 波兰 沃尔什藤 工人 为 蒸汽机车 参加 蒸汽机车 游行 做 准备 n 当日 波兰 沃尔什藤 举行 第 24 届 蒸汽机车 游行 沃尔什藤 被 称为 欧洲 蒸汽机车 之 都 n 新华社 路透\n",
      "Predict answer: the text you choosed was released by '新华社' or '新华网'\n",
      "The ture label is 1\n",
      "\n",
      "\n",
      "Please input a text's index(0-3000), i will judge whether the text is released from '新华社' or '新华网' or not, \n",
      "enter 'exit' to end the programe:53f\n",
      "Please input integer between 0-3000\n",
      "\n",
      "\n",
      "Please input a text's index(0-3000), i will judge whether the text is released from '新华社' or '新华网' or not, \n",
      "enter 'exit' to end the programe:fqwref\n",
      "Please input integer between 0-3000\n",
      "\n",
      "\n",
      "Please input a text's index(0-3000), i will judge whether the text is released from '新华社' or '新华网' or not, \n",
      "enter 'exit' to end the programe:exit\n"
     ]
    }
   ],
   "source": [
    "while True:\n",
    "    input_content = input(\"Please input a text's index(0-{}), i will judge whether the text is released from '新华社' or '新华网' or not, \"\n",
    "                          \"\\nenter 'exit' to end the programe:\".format(len(X_test)))\n",
    "    if input_content == 'exit':\n",
    "        break\n",
    "\n",
    "    elif ((input_content.isdigit() == False) or (int(input_content) >= len(X_test))) and (input_content != 'exit'):\n",
    "        print('Please input integer between 0-{}'.format(len(X_test)))\n",
    "        print('\\n')\n",
    "\n",
    "    else:\n",
    "        input_content = int(input_content)\n",
    "        print('The text you choosed is:')\n",
    "        num = test_indices[input_content][0]\n",
    "        print(num)\n",
    "        print(df['content'].iloc[num])\n",
    "        res = int(model_LinearSVC.predict(X_test[[input_content]]))\n",
    "\n",
    "        if res == 1:\n",
    "            print(\"Predict answer: the text you choosed was released by '新华社' or '新华网'\")\n",
    "            print(\"The ture label is {}\".format(df['label'].iloc[num]))\n",
    "            print('\\n')\n",
    "            \n",
    "        elif res == 0:\n",
    "            print(\"Predict answer: the text you choosed was released by other organization\")\n",
    "            print(\"The ture label is {}\".format(df['label'].iloc[num]))\n",
    "            print('\\n')"
   ]
  },
  {
   "cell_type": "code",
   "execution_count": 19,
   "metadata": {},
   "outputs": [],
   "source": [
    "y_pred = model_LinearSVC.predict(X_test)"
   ]
  },
  {
   "cell_type": "code",
   "execution_count": 20,
   "metadata": {},
   "outputs": [],
   "source": [
    "candidate_news = []\n",
    "for index, (y_hat,y) in enumerate(zip(y_pred,df['label'].values[test_indices])):\n",
    "    if y_hat == 1 and y == 0:\n",
    "        candidate_news.append(index)"
   ]
  },
  {
   "cell_type": "code",
   "execution_count": 21,
   "metadata": {},
   "outputs": [
    {
     "data": {
      "text/plain": [
       "[43,\n",
       " 258,\n",
       " 330,\n",
       " 638,\n",
       " 927,\n",
       " 1003,\n",
       " 1043,\n",
       " 1091,\n",
       " 1231,\n",
       " 1619,\n",
       " 1778,\n",
       " 2049,\n",
       " 2101,\n",
       " 2453,\n",
       " 2836]"
      ]
     },
     "execution_count": 21,
     "metadata": {},
     "output_type": "execute_result"
    }
   ],
   "source": [
    "candidate_news"
   ]
  },
  {
   "cell_type": "code",
   "execution_count": 22,
   "metadata": {},
   "outputs": [
    {
     "data": {
      "image/png": "[encoded data removed]",
      "text/plain": [
       "<matplotlib.figure.Figure at 0x7fd3f114e160>"
      ]
     },
     "metadata": {},
     "output_type": "display_data"
    }
   ],
   "source": [
    "from sklearn.metrics import confusion_matrix\n",
    "import matplotlib.pyplot as plt\n",
    "%matplotlib inline\n",
    "import seaborn as sns\n",
    "\n",
    "conf_mat = confusion_matrix(df['label'].values[test_indices],y_pred, labels = [0,1])\n",
    "fig, ax = plt.subplots(figsize=(10,10))\n",
    "sns.heatmap(conf_mat, annot=True,annot_kws={'size':20,'weight':'bold', 'color':'blue'}, fmt='d',\n",
    "           xticklabels=set(df.label.values), yticklabels=set(df.label.values))\n",
    "plt.ylabel('Actual', fontsize = 25)\n",
    "plt.xlabel('Predicted',fontsize = 25)\n",
    "plt.show()\n",
    "\n",
    "#热力图官方文档：http://seaborn.pydata.org/generated/seaborn.heatmap.html，\n",
    "#中文较为详细的https://blog.csdn.net/m0_38103546/article/details/79935671"
   ]
  },
  {
   "cell_type": "code",
   "execution_count": 23,
   "metadata": {},
   "outputs": [
    {
     "name": "stdout",
     "output_type": "stream",
     "text": [
      "             precision    recall  f1-score   support\n",
      "\n",
      "          0       0.97      0.96      0.97       346\n",
      "          1       0.99      1.00      1.00      2654\n",
      "\n",
      "avg / total       0.99      0.99      0.99      3000\n",
      "\n"
     ]
    }
   ],
   "source": [
    "from sklearn import metrics\n",
    "print(metrics.classification_report(df['label'].values[test_indices], y_pred,labels=[0,1]))"
   ]
  }
 ],
 "metadata": {
  "kernelspec": {
   "display_name": "Python 3",
   "language": "python",
   "name": "python3"
  },
  "language_info": {
   "codemirror_mode": {
    "name": "ipython",
    "version": 3
   },
   "file_extension": ".py",
   "mimetype": "text/x-python",
   "name": "python",
   "nbconvert_exporter": "python",
   "pygments_lexer": "ipython3",
   "version": "3.6.4"
  }
 },
 "nbformat": 4,
 "nbformat_minor": 2
}
