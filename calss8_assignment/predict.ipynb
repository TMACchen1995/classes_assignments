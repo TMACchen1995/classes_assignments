{
 "cells": [
  {
   "cell_type": "code",
   "execution_count": 1,
   "metadata": {},
   "outputs": [],
   "source": [
    "from sklearn.externals import joblib\n",
    "import pandas as pd\n"
   ]
  },
  {
   "cell_type": "code",
   "execution_count": 2,
   "metadata": {},
   "outputs": [],
   "source": [
    "test_indices = pd.read_csv('./test_indices.csv')"
   ]
  },
  {
   "cell_type": "code",
   "execution_count": 3,
   "metadata": {},
   "outputs": [
    {
     "data": {
      "text/html": [
       "<div>\n",
       "<style scoped>\n",
       "    .dataframe tbody tr th:only-of-type {\n",
       "        vertical-align: middle;\n",
       "    }\n",
       "\n",
       "    .dataframe tbody tr th {\n",
       "        vertical-align: top;\n",
       "    }\n",
       "\n",
       "    .dataframe thead th {\n",
       "        text-align: right;\n",
       "    }\n",
       "</style>\n",
       "<table border=\"1\" class=\"dataframe\">\n",
       "  <thead>\n",
       "    <tr style=\"text-align: right;\">\n",
       "      <th></th>\n",
       "      <th>Unnamed: 0</th>\n",
       "      <th>0</th>\n",
       "    </tr>\n",
       "  </thead>\n",
       "  <tbody>\n",
       "    <tr>\n",
       "      <th>0</th>\n",
       "      <td>0</td>\n",
       "      <td>18191</td>\n",
       "    </tr>\n",
       "    <tr>\n",
       "      <th>1</th>\n",
       "      <td>1</td>\n",
       "      <td>18061</td>\n",
       "    </tr>\n",
       "    <tr>\n",
       "      <th>2</th>\n",
       "      <td>2</td>\n",
       "      <td>13208</td>\n",
       "    </tr>\n",
       "    <tr>\n",
       "      <th>3</th>\n",
       "      <td>3</td>\n",
       "      <td>19382</td>\n",
       "    </tr>\n",
       "    <tr>\n",
       "      <th>4</th>\n",
       "      <td>4</td>\n",
       "      <td>16321</td>\n",
       "    </tr>\n",
       "  </tbody>\n",
       "</table>\n",
       "</div>"
      ],
      "text/plain": [
       "   Unnamed: 0      0\n",
       "0           0  18191\n",
       "1           1  18061\n",
       "2           2  13208\n",
       "3           3  19382\n",
       "4           4  16321"
      ]
     },
     "execution_count": 3,
     "metadata": {},
     "output_type": "execute_result"
    }
   ],
   "source": [
    "test_indices.head()"
   ]
  },
  {
   "cell_type": "code",
   "execution_count": 4,
   "metadata": {},
   "outputs": [],
   "source": [
    "test_indices = test_indices.drop(['Unnamed: 0'], axis=1)"
   ]
  },
  {
   "cell_type": "code",
   "execution_count": 5,
   "metadata": {},
   "outputs": [],
   "source": [
    "test_indices = test_indices.values"
   ]
  },
  {
   "cell_type": "code",
   "execution_count": 6,
   "metadata": {},
   "outputs": [],
   "source": [
    "X_test = pd.read_csv('X_test.csv',na_filter=False)  #可以着增加一点read_csv的速度。"
   ]
  },
  {
   "cell_type": "code",
   "execution_count": 7,
   "metadata": {},
   "outputs": [],
   "source": [
    "X_test = X_test.drop(columns=['Unnamed: 0'])\n"
   ]
  },
  {
   "cell_type": "code",
   "execution_count": 8,
   "metadata": {},
   "outputs": [
    {
     "data": {
      "text/html": [
       "<div>\n",
       "<style scoped>\n",
       "    .dataframe tbody tr th:only-of-type {\n",
       "        vertical-align: middle;\n",
       "    }\n",
       "\n",
       "    .dataframe tbody tr th {\n",
       "        vertical-align: top;\n",
       "    }\n",
       "\n",
       "    .dataframe thead th {\n",
       "        text-align: right;\n",
       "    }\n",
       "</style>\n",
       "<table border=\"1\" class=\"dataframe\">\n",
       "  <thead>\n",
       "    <tr style=\"text-align: right;\">\n",
       "      <th></th>\n",
       "      <th>0</th>\n",
       "      <th>1</th>\n",
       "      <th>2</th>\n",
       "      <th>3</th>\n",
       "      <th>4</th>\n",
       "      <th>5</th>\n",
       "      <th>6</th>\n",
       "      <th>7</th>\n",
       "      <th>8</th>\n",
       "      <th>9</th>\n",
       "      <th>...</th>\n",
       "      <th>2990</th>\n",
       "      <th>2991</th>\n",
       "      <th>2992</th>\n",
       "      <th>2993</th>\n",
       "      <th>2994</th>\n",
       "      <th>2995</th>\n",
       "      <th>2996</th>\n",
       "      <th>2997</th>\n",
       "      <th>2998</th>\n",
       "      <th>2999</th>\n",
       "    </tr>\n",
       "  </thead>\n",
       "  <tbody>\n",
       "    <tr>\n",
       "      <th>0</th>\n",
       "      <td>0.071002</td>\n",
       "      <td>0.045461</td>\n",
       "      <td>0.000276</td>\n",
       "      <td>-0.006126</td>\n",
       "      <td>-0.049513</td>\n",
       "      <td>0.009203</td>\n",
       "      <td>0.031776</td>\n",
       "      <td>-0.008720</td>\n",
       "      <td>-0.005790</td>\n",
       "      <td>-0.022079</td>\n",
       "      <td>...</td>\n",
       "      <td>-0.009933</td>\n",
       "      <td>0.005058</td>\n",
       "      <td>-0.001651</td>\n",
       "      <td>-0.003149</td>\n",
       "      <td>0.017901</td>\n",
       "      <td>0.015936</td>\n",
       "      <td>-0.016922</td>\n",
       "      <td>0.005886</td>\n",
       "      <td>0.012429</td>\n",
       "      <td>-0.000635</td>\n",
       "    </tr>\n",
       "    <tr>\n",
       "      <th>1</th>\n",
       "      <td>0.101041</td>\n",
       "      <td>0.068582</td>\n",
       "      <td>-0.011766</td>\n",
       "      <td>-0.038215</td>\n",
       "      <td>-0.147794</td>\n",
       "      <td>0.058488</td>\n",
       "      <td>0.175558</td>\n",
       "      <td>0.157145</td>\n",
       "      <td>0.203340</td>\n",
       "      <td>-0.077071</td>\n",
       "      <td>...</td>\n",
       "      <td>-0.005387</td>\n",
       "      <td>0.007740</td>\n",
       "      <td>-0.006082</td>\n",
       "      <td>0.007796</td>\n",
       "      <td>0.008066</td>\n",
       "      <td>0.003034</td>\n",
       "      <td>0.003968</td>\n",
       "      <td>0.012134</td>\n",
       "      <td>0.000111</td>\n",
       "      <td>0.004399</td>\n",
       "    </tr>\n",
       "    <tr>\n",
       "      <th>2</th>\n",
       "      <td>0.022944</td>\n",
       "      <td>0.088701</td>\n",
       "      <td>-0.016559</td>\n",
       "      <td>0.011640</td>\n",
       "      <td>0.026533</td>\n",
       "      <td>-0.006289</td>\n",
       "      <td>-0.022222</td>\n",
       "      <td>0.005504</td>\n",
       "      <td>0.007996</td>\n",
       "      <td>0.007461</td>\n",
       "      <td>...</td>\n",
       "      <td>-0.011219</td>\n",
       "      <td>0.015276</td>\n",
       "      <td>0.009090</td>\n",
       "      <td>0.009730</td>\n",
       "      <td>-0.011595</td>\n",
       "      <td>-0.013702</td>\n",
       "      <td>-0.003322</td>\n",
       "      <td>0.010580</td>\n",
       "      <td>-0.009004</td>\n",
       "      <td>-0.003159</td>\n",
       "    </tr>\n",
       "    <tr>\n",
       "      <th>3</th>\n",
       "      <td>0.030025</td>\n",
       "      <td>0.112281</td>\n",
       "      <td>-0.011116</td>\n",
       "      <td>0.015315</td>\n",
       "      <td>0.014435</td>\n",
       "      <td>-0.002004</td>\n",
       "      <td>-0.004568</td>\n",
       "      <td>0.010702</td>\n",
       "      <td>0.010346</td>\n",
       "      <td>-0.006501</td>\n",
       "      <td>...</td>\n",
       "      <td>-0.000118</td>\n",
       "      <td>-0.014450</td>\n",
       "      <td>-0.002628</td>\n",
       "      <td>0.002942</td>\n",
       "      <td>0.005644</td>\n",
       "      <td>0.014637</td>\n",
       "      <td>-0.007001</td>\n",
       "      <td>-0.000303</td>\n",
       "      <td>-0.010057</td>\n",
       "      <td>-0.021584</td>\n",
       "    </tr>\n",
       "    <tr>\n",
       "      <th>4</th>\n",
       "      <td>0.100165</td>\n",
       "      <td>0.069588</td>\n",
       "      <td>0.041176</td>\n",
       "      <td>0.015997</td>\n",
       "      <td>-0.072685</td>\n",
       "      <td>0.033633</td>\n",
       "      <td>0.088391</td>\n",
       "      <td>0.009019</td>\n",
       "      <td>0.002836</td>\n",
       "      <td>-0.036571</td>\n",
       "      <td>...</td>\n",
       "      <td>0.000914</td>\n",
       "      <td>-0.032347</td>\n",
       "      <td>0.000779</td>\n",
       "      <td>0.013231</td>\n",
       "      <td>0.011138</td>\n",
       "      <td>-0.004355</td>\n",
       "      <td>0.007592</td>\n",
       "      <td>0.016648</td>\n",
       "      <td>-0.011326</td>\n",
       "      <td>0.006556</td>\n",
       "    </tr>\n",
       "  </tbody>\n",
       "</table>\n",
       "<p>5 rows × 3000 columns</p>\n",
       "</div>"
      ],
      "text/plain": [
       "          0         1         2         3         4         5         6  \\\n",
       "0  0.071002  0.045461  0.000276 -0.006126 -0.049513  0.009203  0.031776   \n",
       "1  0.101041  0.068582 -0.011766 -0.038215 -0.147794  0.058488  0.175558   \n",
       "2  0.022944  0.088701 -0.016559  0.011640  0.026533 -0.006289 -0.022222   \n",
       "3  0.030025  0.112281 -0.011116  0.015315  0.014435 -0.002004 -0.004568   \n",
       "4  0.100165  0.069588  0.041176  0.015997 -0.072685  0.033633  0.088391   \n",
       "\n",
       "          7         8         9    ...         2990      2991      2992  \\\n",
       "0 -0.008720 -0.005790 -0.022079    ...    -0.009933  0.005058 -0.001651   \n",
       "1  0.157145  0.203340 -0.077071    ...    -0.005387  0.007740 -0.006082   \n",
       "2  0.005504  0.007996  0.007461    ...    -0.011219  0.015276  0.009090   \n",
       "3  0.010702  0.010346 -0.006501    ...    -0.000118 -0.014450 -0.002628   \n",
       "4  0.009019  0.002836 -0.036571    ...     0.000914 -0.032347  0.000779   \n",
       "\n",
       "       2993      2994      2995      2996      2997      2998      2999  \n",
       "0 -0.003149  0.017901  0.015936 -0.016922  0.005886  0.012429 -0.000635  \n",
       "1  0.007796  0.008066  0.003034  0.003968  0.012134  0.000111  0.004399  \n",
       "2  0.009730 -0.011595 -0.013702 -0.003322  0.010580 -0.009004 -0.003159  \n",
       "3  0.002942  0.005644  0.014637 -0.007001 -0.000303 -0.010057 -0.021584  \n",
       "4  0.013231  0.011138 -0.004355  0.007592  0.016648 -0.011326  0.006556  \n",
       "\n",
       "[5 rows x 3000 columns]"
      ]
     },
     "execution_count": 8,
     "metadata": {},
     "output_type": "execute_result"
    }
   ],
   "source": [
    "X_test.head()"
   ]
  },
  {
   "cell_type": "code",
   "execution_count": 9,
   "metadata": {},
   "outputs": [],
   "source": [
    "X_test = X_test.values"
   ]
  },
  {
   "cell_type": "code",
   "execution_count": 10,
   "metadata": {},
   "outputs": [],
   "source": [
    "df = pd.read_csv('concated_dataset.csv')"
   ]
  },
  {
   "cell_type": "code",
   "execution_count": 11,
   "metadata": {},
   "outputs": [
    {
     "data": {
      "text/html": [
       "<div>\n",
       "<style scoped>\n",
       "    .dataframe tbody tr th:only-of-type {\n",
       "        vertical-align: middle;\n",
       "    }\n",
       "\n",
       "    .dataframe tbody tr th {\n",
       "        vertical-align: top;\n",
       "    }\n",
       "\n",
       "    .dataframe thead th {\n",
       "        text-align: right;\n",
       "    }\n",
       "</style>\n",
       "<table border=\"1\" class=\"dataframe\">\n",
       "  <thead>\n",
       "    <tr style=\"text-align: right;\">\n",
       "      <th></th>\n",
       "      <th>Unnamed: 0</th>\n",
       "      <th>content</th>\n",
       "      <th>label</th>\n",
       "    </tr>\n",
       "  </thead>\n",
       "  <tbody>\n",
       "    <tr>\n",
       "      <th>0</th>\n",
       "      <td>66242</td>\n",
       "      <td>新华社 照片 外代 2017 年 5 月 18 日 n 外代 二线 美国国会 大厦 n5 月...</td>\n",
       "      <td>1</td>\n",
       "    </tr>\n",
       "    <tr>\n",
       "      <th>1</th>\n",
       "      <td>43659</td>\n",
       "      <td>新华社 照片 亚眠 法国 2017 年 4 月 28 日 n 国际 图文 互动 1 小 工厂...</td>\n",
       "      <td>1</td>\n",
       "    </tr>\n",
       "    <tr>\n",
       "      <th>2</th>\n",
       "      <td>48896</td>\n",
       "      <td>新华社 照片 外代 2017 年 5 月 3 日 n 外代 二线 钢管 上 的 风情 n5 ...</td>\n",
       "      <td>1</td>\n",
       "    </tr>\n",
       "    <tr>\n",
       "      <th>3</th>\n",
       "      <td>66671</td>\n",
       "      <td>新华社 微 特稿 韩国 国土 交通部 １ ８ 日 说 政府 拟 出台 一系列 措施 规范 民...</td>\n",
       "      <td>1</td>\n",
       "    </tr>\n",
       "    <tr>\n",
       "      <th>4</th>\n",
       "      <td>46499</td>\n",
       "      <td>新华社 北京 4 月 30 日电 4 月 30 日 全国 大部分 地区 天气晴好 群众 出游...</td>\n",
       "      <td>1</td>\n",
       "    </tr>\n",
       "  </tbody>\n",
       "</table>\n",
       "</div>"
      ],
      "text/plain": [
       "   Unnamed: 0                                            content  label\n",
       "0       66242  新华社 照片 外代 2017 年 5 月 18 日 n 外代 二线 美国国会 大厦 n5 月...      1\n",
       "1       43659  新华社 照片 亚眠 法国 2017 年 4 月 28 日 n 国际 图文 互动 1 小 工厂...      1\n",
       "2       48896  新华社 照片 外代 2017 年 5 月 3 日 n 外代 二线 钢管 上 的 风情 n5 ...      1\n",
       "3       66671  新华社 微 特稿 韩国 国土 交通部 １ ８ 日 说 政府 拟 出台 一系列 措施 规范 民...      1\n",
       "4       46499  新华社 北京 4 月 30 日电 4 月 30 日 全国 大部分 地区 天气晴好 群众 出游...      1"
      ]
     },
     "execution_count": 11,
     "metadata": {},
     "output_type": "execute_result"
    }
   ],
   "source": [
    "df.head()"
   ]
  },
  {
   "cell_type": "code",
   "execution_count": 12,
   "metadata": {},
   "outputs": [],
   "source": [
    "df.index = df['Unnamed: 0'].values\n"
   ]
  },
  {
   "cell_type": "code",
   "execution_count": 13,
   "metadata": {},
   "outputs": [
    {
     "data": {
      "text/html": [
       "<div>\n",
       "<style scoped>\n",
       "    .dataframe tbody tr th:only-of-type {\n",
       "        vertical-align: middle;\n",
       "    }\n",
       "\n",
       "    .dataframe tbody tr th {\n",
       "        vertical-align: top;\n",
       "    }\n",
       "\n",
       "    .dataframe thead th {\n",
       "        text-align: right;\n",
       "    }\n",
       "</style>\n",
       "<table border=\"1\" class=\"dataframe\">\n",
       "  <thead>\n",
       "    <tr style=\"text-align: right;\">\n",
       "      <th></th>\n",
       "      <th>Unnamed: 0</th>\n",
       "      <th>content</th>\n",
       "      <th>label</th>\n",
       "    </tr>\n",
       "  </thead>\n",
       "  <tbody>\n",
       "    <tr>\n",
       "      <th>66242</th>\n",
       "      <td>66242</td>\n",
       "      <td>新华社 照片 外代 2017 年 5 月 18 日 n 外代 二线 美国国会 大厦 n5 月...</td>\n",
       "      <td>1</td>\n",
       "    </tr>\n",
       "    <tr>\n",
       "      <th>43659</th>\n",
       "      <td>43659</td>\n",
       "      <td>新华社 照片 亚眠 法国 2017 年 4 月 28 日 n 国际 图文 互动 1 小 工厂...</td>\n",
       "      <td>1</td>\n",
       "    </tr>\n",
       "    <tr>\n",
       "      <th>48896</th>\n",
       "      <td>48896</td>\n",
       "      <td>新华社 照片 外代 2017 年 5 月 3 日 n 外代 二线 钢管 上 的 风情 n5 ...</td>\n",
       "      <td>1</td>\n",
       "    </tr>\n",
       "    <tr>\n",
       "      <th>66671</th>\n",
       "      <td>66671</td>\n",
       "      <td>新华社 微 特稿 韩国 国土 交通部 １ ８ 日 说 政府 拟 出台 一系列 措施 规范 民...</td>\n",
       "      <td>1</td>\n",
       "    </tr>\n",
       "    <tr>\n",
       "      <th>46499</th>\n",
       "      <td>46499</td>\n",
       "      <td>新华社 北京 4 月 30 日电 4 月 30 日 全国 大部分 地区 天气晴好 群众 出游...</td>\n",
       "      <td>1</td>\n",
       "    </tr>\n",
       "  </tbody>\n",
       "</table>\n",
       "</div>"
      ],
      "text/plain": [
       "       Unnamed: 0                                            content  label\n",
       "66242       66242  新华社 照片 外代 2017 年 5 月 18 日 n 外代 二线 美国国会 大厦 n5 月...      1\n",
       "43659       43659  新华社 照片 亚眠 法国 2017 年 4 月 28 日 n 国际 图文 互动 1 小 工厂...      1\n",
       "48896       48896  新华社 照片 外代 2017 年 5 月 3 日 n 外代 二线 钢管 上 的 风情 n5 ...      1\n",
       "66671       66671  新华社 微 特稿 韩国 国土 交通部 １ ８ 日 说 政府 拟 出台 一系列 措施 规范 民...      1\n",
       "46499       46499  新华社 北京 4 月 30 日电 4 月 30 日 全国 大部分 地区 天气晴好 群众 出游...      1"
      ]
     },
     "execution_count": 13,
     "metadata": {},
     "output_type": "execute_result"
    }
   ],
   "source": [
    "df.head()"
   ]
  },
  {
   "cell_type": "code",
   "execution_count": 14,
   "metadata": {},
   "outputs": [],
   "source": [
    "df = df.drop(df.columns[0],axis =1)"
   ]
  },
  {
   "cell_type": "code",
   "execution_count": 15,
   "metadata": {},
   "outputs": [
    {
     "data": {
      "text/html": [
       "<div>\n",
       "<style scoped>\n",
       "    .dataframe tbody tr th:only-of-type {\n",
       "        vertical-align: middle;\n",
       "    }\n",
       "\n",
       "    .dataframe tbody tr th {\n",
       "        vertical-align: top;\n",
       "    }\n",
       "\n",
       "    .dataframe thead th {\n",
       "        text-align: right;\n",
       "    }\n",
       "</style>\n",
       "<table border=\"1\" class=\"dataframe\">\n",
       "  <thead>\n",
       "    <tr style=\"text-align: right;\">\n",
       "      <th></th>\n",
       "      <th>content</th>\n",
       "      <th>label</th>\n",
       "    </tr>\n",
       "  </thead>\n",
       "  <tbody>\n",
       "    <tr>\n",
       "      <th>66242</th>\n",
       "      <td>新华社 照片 外代 2017 年 5 月 18 日 n 外代 二线 美国国会 大厦 n5 月...</td>\n",
       "      <td>1</td>\n",
       "    </tr>\n",
       "    <tr>\n",
       "      <th>43659</th>\n",
       "      <td>新华社 照片 亚眠 法国 2017 年 4 月 28 日 n 国际 图文 互动 1 小 工厂...</td>\n",
       "      <td>1</td>\n",
       "    </tr>\n",
       "    <tr>\n",
       "      <th>48896</th>\n",
       "      <td>新华社 照片 外代 2017 年 5 月 3 日 n 外代 二线 钢管 上 的 风情 n5 ...</td>\n",
       "      <td>1</td>\n",
       "    </tr>\n",
       "    <tr>\n",
       "      <th>66671</th>\n",
       "      <td>新华社 微 特稿 韩国 国土 交通部 １ ８ 日 说 政府 拟 出台 一系列 措施 规范 民...</td>\n",
       "      <td>1</td>\n",
       "    </tr>\n",
       "    <tr>\n",
       "      <th>46499</th>\n",
       "      <td>新华社 北京 4 月 30 日电 4 月 30 日 全国 大部分 地区 天气晴好 群众 出游...</td>\n",
       "      <td>1</td>\n",
       "    </tr>\n",
       "  </tbody>\n",
       "</table>\n",
       "</div>"
      ],
      "text/plain": [
       "                                                 content  label\n",
       "66242  新华社 照片 外代 2017 年 5 月 18 日 n 外代 二线 美国国会 大厦 n5 月...      1\n",
       "43659  新华社 照片 亚眠 法国 2017 年 4 月 28 日 n 国际 图文 互动 1 小 工厂...      1\n",
       "48896  新华社 照片 外代 2017 年 5 月 3 日 n 外代 二线 钢管 上 的 风情 n5 ...      1\n",
       "66671  新华社 微 特稿 韩国 国土 交通部 １ ８ 日 说 政府 拟 出台 一系列 措施 规范 民...      1\n",
       "46499  新华社 北京 4 月 30 日电 4 月 30 日 全国 大部分 地区 天气晴好 群众 出游...      1"
      ]
     },
     "execution_count": 15,
     "metadata": {},
     "output_type": "execute_result"
    }
   ],
   "source": [
    "df.head()"
   ]
  },
  {
   "cell_type": "code",
   "execution_count": 16,
   "metadata": {},
   "outputs": [],
   "source": [
    "model_LogisticRegression = joblib.load('model_LogisticRegression.pkl')    "
   ]
  },
  {
   "cell_type": "code",
   "execution_count": 17,
   "metadata": {},
   "outputs": [
    {
     "name": "stdout",
     "output_type": "stream",
     "text": [
      "Please input a text's index(0-1000), i will judge whether the text is released from '新华社' or '新华网' or not, \n",
      "enter 'exit' to end the programe:324\n",
      "The text you choosed is:\n",
      "16137\n",
      "nan\n",
      "Predict answer: the text you choosed was released by other organization\n",
      "The ture label is 0\n",
      "\n",
      "\n",
      "Please input a text's index(0-1000), i will judge whether the text is released from '新华社' or '新华网' or not, \n",
      "enter 'exit' to end the programe:43\n",
      "The text you choosed is:\n",
      "283\n",
      "新华社 上海 ４ 月 １ ２ 日电 记者 黄安 琪 上海 知识产权 法院 于 １ ２ 日 发布 ２ ０ １ ５ ２ ０ １ ６ 专利 案件 白皮书 白皮书 显示 ２ ０ １ ５ 至 ２ ０ １ ６ 年 专利 案件 收案 数 年均 增长 超 ２ ０ 涉外 案件 占 比 为 １ ５ 展会 成为 权利 人 维权 的 热点 n ２ ０ １ ５ 至 ２ ０ １ ６ 年 上海 知产 法院 共 受理 专利 案件 １ ０ １ １ 件 并 保持 年均 ２ ０ 以上 的 增幅 其中 受理 涉外 专利 案件 １ ５ ２ 件 占 收案 总量 的 １ ５ 案件 当事人 涉及 美国 日本 瑞典 德国 等 １ ４ 个 国家 包括 三菱 电机 株式会社 巴斯夫 公司 惠普 发展 公司 等 国际 知名企业 n 据 办案 法官 分析 涉外 专利 案件 呈现 两个 特点 一是 发明专利 案件 较 多 侵害 发明 专利权 案件 共计 ９ ４ 件 占 涉外 案件 总量 的 ６ １ ８ 发明专利 类型 涵盖 纺织 包装 医疗 机床 汽车 等 技术 领域 二是 原告 主要 是 各个 技术 领域 的 知名 跨国企业 或 行业 领先者 涉诉 国内 当事人 多为 中型企业 n 此外 白皮书 显示 展会 成为 权利 人 维权 的 热点 目前 上海 已 成为 国内外 各个 行业 举办 展会 的 首选 地 之一 不少 专利权人 在 展会 期间 通过 申请 保全 和 公证 固定 被告 实施 销售 许诺 销售 侵权 产品 行为 的 证据 在 上海 知产 法院 受理 的 诉前 证据 保全 案件 中 申请 查封 扣押 一方 当事人 在 展会 上 展示 的 产品 的 情况 占 到 涉 专利 保全 案件 总量 的 ７ ３ ３ 完\n",
      "Predict answer: the text you choosed was released by '新华社' or '新华网'\n",
      "The ture label is 1\n",
      "\n",
      "\n",
      "Please input a text's index(0-1000), i will judge whether the text is released from '新华社' or '新华网' or not, \n",
      "enter 'exit' to end the programe:765\n",
      "The text you choosed is:\n",
      "15352\n",
      "n 新华社 北京 5 月 3 日电 记者 徐剑梅 5 月 3 日 新华 每日电讯 刊载 题为 在 美国 更 常用 的 说法 是 居家 妈妈 的 评论 两年 多前 美国在线 互动 问答 社区 Quora 上 有人 问当 全职 妈妈 是 什么 感受 n 苏珊 史密斯 写下 很长 的 答案 她 说 她 结婚 20 年 当 全职 妈妈 15 年 有 3 个 孩子 生 老大 前 她 已 是 财富 50 强 公司 的 高级 主管 上司 接到 她 辞呈 难以置信 专门 给 她 留 了 3 个 月 后悔 期 n 喜欢 当 全职 妈妈 吗 苏珊 自问自答 大多数 时候 我 挺 恨 的 她 说 她 爱 孩子 但 恨 自己 的 生活 单调 哭闹 抱怨 没完没了 地 做 清洁 和 洗 东西 从来 没人 帮 把手 还有 争吵 我 喜欢 独处 和 安静 但 除了 他们 上床 后 我 睡觉 前能 有 几小时 宝贵 时光 这么 多年 我 几乎 没 享受 过 独处 我 丈夫 一直 百分之百 地 支持 我 的 任何 决定 但 在 很多 方面 我 在 家庭 之外 的 世界 变成 一个 无足轻重 的 人 这 让 人 有时候 很 难受 n 她 说 她 后悔 孩子 上学 后 没 重新 上班 就算 挣钱 不多 也 会 快乐 很多 我 深爱 孩子 一直 为 他们 竭尽全力 但 我 如果 上班 会 是 一个 更好 更 耐心 更 有 爱心 也 更 享受 他们 幼年 时光 的 妈妈 孩子 们 也 会 更 快乐 苏珊 分析 自己 说 很多 女性 享受 当 全职 妈妈 但 她 这样 做 只 因为 相信 为 家庭 牺牲 是 最好 的 选择 实际上 却 于己 无益 对 家人 也 没有 好处 n 但 苏珊 最后 说 如今 孩子 们 都 在 上学 生活 也 安定 她 每天 长时间 自己 待 着 多年 的 紧张 和 单调 仿佛 得到 治愈 每天 醒来 都 很 快乐 和 平静 我 终于 成为 我 一直 期望 的 有 爱心 从容 耐心 投入 的 妈妈 现在 终于 可以 说 我 喜欢 当 一个 居家 妈妈 n 克里斯 汀 约 哈尔 生 孩子 前 是 老师 她 写道 我 是 全职 妈妈 对此 我 又 爱 又 恨 爱 的 是 不必因 把 小孩 交给 别人 照看 而 内疚 能 自己 安排 时间 有空 做 各种 好吃 的 能 和 孩子 们 在 一起 特别 是 陪 他们 远足 晨练 还有 他们 突然 生病 的 时候 恨 的 是 做饭 和 打扫卫生 常常 只为 想 雇 清洁工 而 希望 自己 工作 我 不能 出去 太久 不然 家务活 干不完 日复一日 地陷 在 家里 实在 太 乏味 了 我 还 感到 因为 选择 居家 得不到 尊重 甚至 得不到 丈夫 尊重 不过 我 不在乎 这个 我 还是 我 对 自己 有 信心 n 拉 基尼 沙 卡尔 说 她 妈妈 一辈子 在家 带 孩子 看上去 很 轻松 她生 孩子 时 就 决定 回家 当 全职 妈妈 结果 发现自己 大错特错 难上加难 谁 不 这么 说 谁 就 没 经历 过 她 说 看着 儿子 的 笑脸 目睹 他 第一次 翻身 第一次 举手 绝对 感觉 值得 但 生活 重心 彻底 转移 生活 目标 完全 改变 让 她 迷惘 我 期望 回到 和 成年人 打交道 的 世界 把 脑子 用来 应对 更 需要 智力 的 挑战 我 肯定 会 内疚 把 孩子 交给 别人 照看 但 我 也 知道 如果 自己 充实 全家人 都 会 更 快乐 n 芭芭拉 卡 莱顿 则 给 自己 贴 上 幸存者 标签 她 说 全职 妈妈 同时 也 是 会计师 仲裁 人 面包师 保姆 司机 顾问 侦探 技工 营养学家 教育家 一点 不 浪漫 但 这 就是 我 的 现实 她 说 她 乐在其中 没有 遗憾 n 还有 一位 3 个 孩子 的 妈妈 匿名 写道 她 当过 一段时间 全职 妈妈 孩子 和 丈夫 很 高兴 可 自己 很 痛苦 几乎 没有 和 成年人 的 互动 孩子 们 理所当然 地 指使 你 拿 你 当 24 小时 仆人 丈夫 有点烦 你 可能 因为 你 烦 你 自己 不 挣钱 所以 不敢 往 自己 身上 花钱 和 其他 成年人 没 啥 可聊 生活 没有 挑战性 没多久 她 就 找 了 份 兼职 至少 省 了 看 心理医生 的 钱 n 罗伯特 波洛克 是 唯一 答问 的 男性 他 说 他 太太 觉得 当 全职 妈妈 非常 没 成就感 生活 失去 目的 而 他 认为 作为 母亲 抚养 孩子 长大 就是 终极 报酬 不过 我 是 男人 只能 表达 一下 看法 他 的 太太 最终 重返 职场 n 网上 浏览 发现 全职 妈妈 fulltimemother 这个 称呼 在 美国 挺 有 争议 的 很多 有 工作 的 美国 妈妈 说 她们 对 这个 提法 感到 恼火 有 工作 怎么 就 不是 全职 妈妈 了 爱心 和 责任心 哪样 少 了 所以 讲究 措辞 的 美国 媒体 往往 使用 居家 妈妈 stayathomemother 一词 皮 尤 中心 调查 显示 上 世纪 60 年代 后期 美国 大约 一半 母亲 不 工作 但 如今 居家 妈妈 不到 三成 另外 还有 大约 7 的 居家 爸爸 n 上班 就 没法 随时 陪伴 孩子 几乎 每个 职场 妈妈 都 会 因此 内疚 但 2015 年 哈佛商学院 教授 卡特琳 麦克 金 和 同事 在 调查 24 个 国家 约 5 万人后 发现 有 工作 的 妈妈 女儿 往往 比 同龄 女性 更 成功 挣钱 更 多 更 可能 当 老板 儿子 则 会花 更 多 时间 照顾 弟妹 和 干 家务活 长大 后 娶 的 妻子 往往 也 工作 并且 不论 在 哪个 国家 母亲 有 工作 的 孩子 长大 后 往往 更 有 男女平等 观念 更 不在意 传统 家庭 分工 麦克 金 强调 这项 研究 结果 不能 说明 职场 母亲 是否 过得 更好 更 快乐 只能 说明 她们 的 女儿 长大 后 更 可能 找 工作 儿子 长大 后 更 有 家庭 观念 n 美国 还有 调查 显示 职场 妈妈 又 要 照料 孩子 又 要 工作 多半 比 居家 妈妈 睡眠 更少 比 职场 父亲 健康 更差 但 另一方面 人们 对 居家 妈妈 照顾 孩子 和 料理 家务 的 期望值 更高 所以 居家 妈妈 反倒 可能 心理压力 更大皮 尤 研究 中心 发现 上 世纪 最后 30 年 美国 居家 妈妈 比例 连续 下降 在 1999 年降 至 23 的 历史 最低水平 2012 年 这 一 比例 回升 至 29 但 很多 妈妈 待在家里 是因为 找 不到 工作 n 几十年 来 技术 和 两性 观念 的 进步 广泛 改变 了 美国 妈妈 们 的 生活 皮 尤 调查 显示 如今 的 美国 妈妈 不管 是否 工作 和 50 年前 相比 干 家务活 时间 少 了 和 孩子 相处 时间 多 了 而 爸爸 们 虽然 比不上 妈妈 付出 多干 家务活 和 照顾 孩子 的 时间 也 更 多 另一方面 婚姻 形态 的 改变 导致 单亲家庭 激增 现在 的 美国 有 18 岁 以下 孩子 的 家庭 中 40 以 母亲 为 唯一 或 首要 收入 来源 而 这些 挣 面包 的 妈妈 三分之二 是 单身 母亲 n 皮 尤 中心 询问 受访 的 美国 妈妈 们 她们 最 理想 的 状态 是 什么 得到 的 绝大多数 答案 是 更 愿意 工作 而 不是 待在家里 不过 多数 美国 妈妈 倾向 于 非全日制 工作 那么 对 孩子 来说 妈妈 最好 的 选择 是 什么 呢 皮 尤 调查 显示 42 的 美国 成年人 认为 孩子 小 的 时候 妈妈 从事 非全日制 工作 最为 理想 三分之一 的 人 认为 妈妈 最好 完全 不 工作 但 也 有 16 的 人 说 妈妈 从事 全职 工作 对 孩子 最好 n 归根到底 抽象 的 数据 替代 不了 具体 的 人生 而 人生 难得 圆满 在 现实生活 中 每位 妈妈 的 处境 不 一样 对 生活 的 态度 不 一样 养育 孩子 的 观念 不 一样 并且 有 条件 选择 不 工作 的 妈妈 其实 没 那么 多 无论如何 太 多 女性 的 精神 世界 远 不是 相夫教子 就 能 完全 填满 Quora 问答 中 最 打动 笔者 的 是 苏珊 的 心路历程 她 最终 感悟到 妈妈 快乐 孩子 会 更 快乐 如果 把 当 居家 妈妈 视为 享受 那 很 好 如果 当成 自我牺牲 那 还是 算了吧 n\n",
      "Predict answer: the text you choosed was released by '新华社' or '新华网'\n",
      "The ture label is 1\n",
      "\n",
      "\n",
      "Please input a text's index(0-1000), i will judge whether the text is released from '新华社' or '新华网' or not, \n",
      "enter 'exit' to end the programe:54\n",
      "The text you choosed is:\n",
      "15035\n",
      "新华社 照片 上海 2017 年 4 月 13 日 n 体育 3 刘翔 助力 上海 活力 校园 活动 n4 月 13 日 刘翔 在 活动 中 与 学生 交流 n 当日 刘翔 来到 上海师范大学 康城 实验 小学 作为 活力 校园 的 特别 教练 给 孩子 们 带来 了 一堂 别开生面 的 跑步 课 2016 年 9 月 至今 活力 校园 已 覆盖 上海 97 所 学校 其中 跑步 科目 一共 向 上海 37 所 学校 提供 了 近千 课时 的 课程 覆盖 学生 近 3 万人次 n 新华社 记者 丁汀 摄\n",
      "Predict answer: the text you choosed was released by '新华社' or '新华网'\n",
      "The ture label is 1\n",
      "\n",
      "\n",
      "Please input a text's index(0-1000), i will judge whether the text is released from '新华社' or '新华网' or not, \n",
      "enter 'exit' to end the programe:ce\n",
      "Please input integer between 0-1000\n",
      "\n",
      "\n",
      "Please input a text's index(0-1000), i will judge whether the text is released from '新华社' or '新华网' or not, \n",
      "enter 'exit' to end the programe:4356\n",
      "Please input integer between 0-1000\n",
      "\n",
      "\n",
      "Please input a text's index(0-1000), i will judge whether the text is released from '新华社' or '新华网' or not, \n",
      "enter 'exit' to end the programe:646\n",
      "The text you choosed is:\n",
      "10014\n",
      "新华社 照片 杜塞尔多夫 德国 2017 年 6 月 3 日 n 体育 2 乒乓球 世乒赛 男单 林 高远 晋级 n6 月 2 日 阿昌 塔 在 比赛 中 庆祝 得分 n 当日 在 德国 杜塞尔多夫 举行 的 2017 年 世界 乒乓球 锦标赛 男单 第三轮 比赛 中 中国 选手 林 高远 以 4 比 2 战胜 印度 选手 阿昌 塔 晋级 16 强 n 新华社 记者 陶希夷 摄\n",
      "Predict answer: the text you choosed was released by '新华社' or '新华网'\n",
      "The ture label is 1\n",
      "\n",
      "\n",
      "Please input a text's index(0-1000), i will judge whether the text is released from '新华社' or '新华网' or not, \n",
      "enter 'exit' to end the programe:exit\n"
     ]
    }
   ],
   "source": [
    "while True:\n",
    "    input_content = input(\"Please input a text's index(0-{}), i will judge whether the text is released from '新华社' or '新华网' or not, \"\n",
    "                          \"\\nenter 'exit' to end the programe:\".format(len(X_test)))\n",
    "    if input_content == 'exit':\n",
    "        break\n",
    "\n",
    "    elif ((input_content.isdigit() == False) or (int(input_content) >= len(X_test))) and (input_content != 'exit'):\n",
    "        print('Please input integer between 0-{}'.format(len(X_test)))\n",
    "        print('\\n')\n",
    "\n",
    "    else:\n",
    "        input_content = int(input_content)\n",
    "        print('The text you choosed is:')\n",
    "        num = test_indices[input_content][0]\n",
    "        print(num)\n",
    "        print(df['content'].iloc[num])\n",
    "        res = int(model_LogisticRegression.predict(X_test[[input_content]]))\n",
    "\n",
    "        if res == 1:\n",
    "            print(\"Predict answer: the text you choosed was released by '新华社' or '新华网'\")\n",
    "            print(\"The ture label is {}\".format(df['label'].iloc[num]))\n",
    "            print('\\n')\n",
    "            \n",
    "        elif res == 0:\n",
    "            print(\"Predict answer: the text you choosed was released by other organization\")\n",
    "            print(\"The ture label is {}\".format(df['label'].iloc[num]))\n",
    "            print('\\n')"
   ]
  },
  {
   "cell_type": "code",
   "execution_count": 18,
   "metadata": {},
   "outputs": [],
   "source": [
    "y_pred = model_LogisticRegression.predict(X_test)"
   ]
  },
  {
   "cell_type": "code",
   "execution_count": 19,
   "metadata": {},
   "outputs": [],
   "source": [
    "candidate_news = []\n",
    "for index, (y_hat,y) in enumerate(zip(y_pred,df['label'].values[test_indices])):\n",
    "    if y_hat == 1 and y == 0:\n",
    "        candidate_news.append(index)"
   ]
  },
  {
   "cell_type": "code",
   "execution_count": 20,
   "metadata": {},
   "outputs": [
    {
     "data": {
      "text/plain": [
       "[498]"
      ]
     },
     "execution_count": 20,
     "metadata": {},
     "output_type": "execute_result"
    }
   ],
   "source": [
    "candidate_news"
   ]
  },
  {
   "cell_type": "code",
   "execution_count": 21,
   "metadata": {},
   "outputs": [
    {
     "data": {
      "image/png": "[encoded data removed]",
      "text/plain": [
       "<matplotlib.figure.Figure at 0x7fefcfd79fd0>"
      ]
     },
     "metadata": {},
     "output_type": "display_data"
    }
   ],
   "source": [
    "from sklearn.metrics import confusion_matrix\n",
    "import matplotlib.pyplot as plt\n",
    "%matplotlib inline\n",
    "import seaborn as sns\n",
    "\n",
    "conf_mat = confusion_matrix(df['label'].values[test_indices],y_pred, labels = [0,1])\n",
    "fig, ax = plt.subplots(figsize=(10,10))\n",
    "sns.heatmap(conf_mat, annot=True,annot_kws={'size':20,'weight':'bold', 'color':'blue'}, fmt='d',\n",
    "           xticklabels=set(df.label.values), yticklabels=set(df.label.values))\n",
    "plt.ylabel('Actual', fontsize = 25)\n",
    "plt.xlabel('Predicted',fontsize = 25)\n",
    "plt.show()\n",
    "\n",
    "#热力图官方文档：http://seaborn.pydata.org/generated/seaborn.heatmap.html，\n",
    "#中文较为详细的https://blog.csdn.net/m0_38103546/article/details/79935671"
   ]
  },
  {
   "cell_type": "code",
   "execution_count": 22,
   "metadata": {},
   "outputs": [
    {
     "name": "stdout",
     "output_type": "stream",
     "text": [
      "             precision    recall  f1-score   support\n",
      "\n",
      "          0       0.97      0.99      0.98       136\n",
      "          1       1.00      1.00      1.00       864\n",
      "\n",
      "avg / total       1.00      0.99      1.00      1000\n",
      "\n"
     ]
    }
   ],
   "source": [
    "from sklearn import metrics\n",
    "print(metrics.classification_report(df['label'].values[test_indices], y_pred,labels=[0,1]))"
   ]
  },
  {
   "cell_type": "code",
   "execution_count": 23,
   "metadata": {},
   "outputs": [
    {
     "data": {
      "text/plain": [
       "[498]"
      ]
     },
     "execution_count": 23,
     "metadata": {},
     "output_type": "execute_result"
    }
   ],
   "source": [
    "candidate_news"
   ]
  },
  {
   "cell_type": "code",
   "execution_count": 24,
   "metadata": {},
   "outputs": [],
   "source": [
    "from scipy.spatial.distance import cosine"
   ]
  },
  {
   "cell_type": "code",
   "execution_count": 25,
   "metadata": {},
   "outputs": [],
   "source": [
    "def cosine_distance(list1, list2):\n",
    "    return cosine(list1, list2)"
   ]
  },
  {
   "cell_type": "code",
   "execution_count": 26,
   "metadata": {},
   "outputs": [
    {
     "data": {
      "text/plain": [
       "0.05131670194948623"
      ]
     },
     "execution_count": 26,
     "metadata": {},
     "output_type": "execute_result"
    }
   ],
   "source": [
    "cosine_distance([1,1], [2,1])"
   ]
  },
  {
   "cell_type": "code",
   "execution_count": 27,
   "metadata": {},
   "outputs": [
    {
     "name": "stderr",
     "output_type": "stream",
     "text": [
      "/home/chenshixin/anaconda3/lib/python3.6/site-packages/scipy/spatial/distance.py:644: RuntimeWarning: invalid value encountered in double_scalars\n",
      "  dist = 1.0 - uv / np.sqrt(uu * vv)\n"
     ]
    }
   ],
   "source": [
    "#在所有的测试集文本中，逐一和candidate_news中的元素计算余弦值，并排序，分别取最小的五个文本。\n",
    "sorted_res = []\n",
    "for i in range(len(candidate_news)):\n",
    "    sorted_res.append(sorted(list(range(len(test_indices))), key = lambda x:cosine_distance(\n",
    "                               list(X_test[x]), list(X_test[candidate_news[i]])))[1:5])"
   ]
  },
  {
   "cell_type": "code",
   "execution_count": 28,
   "metadata": {},
   "outputs": [
    {
     "data": {
      "text/plain": [
       "[[305, 26, 302, 261]]"
      ]
     },
     "execution_count": 28,
     "metadata": {},
     "output_type": "execute_result"
    }
   ],
   "source": [
    "sorted_res"
   ]
  },
  {
   "cell_type": "code",
   "execution_count": 29,
   "metadata": {},
   "outputs": [],
   "source": [
    "cosine_res = []\n",
    "for i in range(len(candidate_news)):\n",
    "    cosine_res.append(cosine_distance(\n",
    "        list(X_test[candidate_news[i]]),list(X_test[sorted_res[i][0]])\n",
    "    ))"
   ]
  },
  {
   "cell_type": "code",
   "execution_count": 30,
   "metadata": {},
   "outputs": [],
   "source": [
    "sorted_cosine_res = sorted(cosine_res)"
   ]
  },
  {
   "cell_type": "code",
   "execution_count": 31,
   "metadata": {},
   "outputs": [
    {
     "data": {
      "text/plain": [
       "[0.8501389170592532]"
      ]
     },
     "execution_count": 31,
     "metadata": {},
     "output_type": "execute_result"
    }
   ],
   "source": [
    "sorted_cosine_res  #最小的余弦值依然比较大。"
   ]
  },
  {
   "cell_type": "code",
   "execution_count": 32,
   "metadata": {},
   "outputs": [],
   "source": [
    "#获得最小余弦值的candidate_res也即sorted_res的下标。得到余弦值最小的一对。\n",
    "for index, cosine_value in enumerate(cosine_res):\n",
    "    if cosine_value == sorted_cosine_res[0]:\n",
    "        a=index"
   ]
  },
  {
   "cell_type": "code",
   "execution_count": 33,
   "metadata": {},
   "outputs": [
    {
     "name": "stdout",
     "output_type": "stream",
     "text": [
      "498 [305, 26, 302, 261] 0.8501389170592532\n"
     ]
    }
   ],
   "source": [
    "print(candidate_news[a],sorted_res[a],sorted_cosine_res[a])"
   ]
  },
  {
   "cell_type": "code",
   "execution_count": 34,
   "metadata": {},
   "outputs": [
    {
     "data": {
      "text/plain": [
       "0.8501389170592532"
      ]
     },
     "execution_count": 34,
     "metadata": {},
     "output_type": "execute_result"
    }
   ],
   "source": [
    "cosine_distance(list(X_test[candidate_news[a]]),list(X_test[sorted_res[a][0]]))"
   ]
  },
  {
   "cell_type": "code",
   "execution_count": 35,
   "metadata": {},
   "outputs": [
    {
     "name": "stdout",
     "output_type": "stream",
     "text": [
      "498 305\n"
     ]
    }
   ],
   "source": [
    "print(candidate_news[a],sorted_res[a][0])"
   ]
  },
  {
   "cell_type": "code",
   "execution_count": 36,
   "metadata": {},
   "outputs": [
    {
     "data": {
      "text/plain": [
       "'新华社 照片 南京 2017 年 4 月 11 日 n 体育 5 足球 亚冠 小组赛 江苏 苏宁 战胜 大阪 钢巴 n4 月 11 日 江苏 苏宁 队 门将 张思鹏 上 在 比赛 中 扑救 n 当日 在 江苏 南京 举行 的 2017 赛季 亚冠 联赛 H 组 第四轮 比赛 中 中国 江苏 苏宁 队 主场 以 3 比 0 战胜 日本 大阪 钢巴队 以 小组赛 四 战全胜 的 成绩 提前 两轮 进入 淘汰赛 n 新华社 记者 杨磊 摄'"
      ]
     },
     "execution_count": 36,
     "metadata": {},
     "output_type": "execute_result"
    }
   ],
   "source": [
    "df['content'].values[candidate_news[a]]"
   ]
  },
  {
   "cell_type": "code",
   "execution_count": 37,
   "metadata": {},
   "outputs": [
    {
     "data": {
      "text/plain": [
       "'n 诺贝尔文学奖 得主 帕特里克 莫迪 亚诺 勒 克莱 齐奥 大江健三郎 美国 著名作家 安妮 普鲁科伦 麦凯恩 德国 著名作家 马丁 瓦尔泽 英国 著名作家 朱利安 巴恩斯 这些 当代 知名 的 外国 小说家 有 一个 共同 特点 获得 过 中国 的 21 世纪 年度 最佳 外国 小说 奖 n 中国 标准 世界 眼光 由 人民文学出版社 与 中国 外国文学 学会 在 2001 年 共同 发起 的 这 一 奖项 截至 2016 年 已 成功 举办 了 15 届 共有 24 个 国家 的 92 位 作家 的 作品 获奖 挖掘 出版 了 不少 当代 外国文学 名家 大家 的 作品 n 日前 2016 年 21 世纪 年度 最佳 外国 小说 奖在京 揭晓 德国 作家 海因茨 海勒 的 本来 我们 应该 跳舞 西班牙 作家 费尔南多 马 里亚斯 的 父亲 岛 尼日利亚 作家 A 伊各尼 巴雷特 的 黑 腚 冰岛 作家 埃纳 尔茂尔古 德蒙 德松 的 酷暑 天 以及 俄罗斯 作家 古泽 尔雅 辛娜 的 祖 列伊 哈 睁开 了 眼睛 获奖 这些 作品 已 被 译成 中文 并 陆续 出版 小 编带 你 先睹为快 n 本来 我们 应该 跳舞 你 没读 过 的 末世 文 nnn 海因茨 海勒 德国 当代作家 出 生于 慕尼黑 曾 在 慕尼黑 纽约 和 瑞士 的 比尔 攻读 哲学 与 文学 其 小说 处女作 让 人 心安 的 煤油 爆炸声 2014 年 一经 出版 即 引来 好评 如潮 本来 我们 应该 跳舞 是 作者 第二部 小说 这部 作品 同样 受到 媒体 诸多 赞誉 入选 2015 年 德国 图书奖 长 名单 n 内容简介 n 五个 三十多岁 的 男子 循着 多年 的 习惯 暂时 离开 自己 熟悉 的 生活 离开 家庭 和 工作 去 山里 的 小屋 共度 周末 但 周末 结束 后 他们 突然 发现自己 无法 回到 那个 熟悉 的 世界 中 去 离开 小屋 的 他们 看到 的 是 一个 被 彻底 摧毁 的 世界 废墟 焦土 尸体 被 劫掠一空 的 超市 没有 一丝 生命 痕迹 的 村庄 站 在 被 摧毁 的 现代文明 之上 人 仿佛 突然 被 打 回前 文明 时代 面临 着 赤裸裸 的 生存 问题 他们 能够 依靠 的 除了 彼此 就 只 剩 自己 n 推介 语 n 本来 我们 应该 跳舞 是 一部 结构 独特 的 末世 小说 它 以 与众不同 的 风格 表现 了 五个 生活 在 现代文明 中 的 年轻人 面对 突如其来 的 毁灭性 的 灾难 的 感知 过程 小说 六十九 个 看似 几乎 毫无 关联 的 章节 断片 在 冷静 而 富有诗意 的 叙述 中 自然而然 地 汇聚 成 了 一个 令人 震撼 的 求生 画面 凸显出 了 一个 人类 可能 面临 的 刻骨铭心 的 生存 问题 绝望 与 冷酷 现实 与 回忆 时间 与 空间 在 这里 相互交织 给 读者 留下 了 一个 充满 张力 的 想象 空间 nn 父亲 岛 一段 找寻 自我 和 父爱 的 环形 旅程 nnn 费尔南多 马 里亚斯 西班牙 作家 1958 年出 生于 西班牙 毕尔巴鄂 1975 年 开始 在 马德里 学习 电影 他 的 代表作 包括 长篇小说 奇迹 之光 1991 上校 之子 2000 入侵者 2004 父亲 岛 2015 和 儿童文学 天空 之下 2005 等 曾 获 纳达尔 文学奖 和 简明 图书奖 等 n 内容简介 n 莱 奥纳多 是 一名 长年 在外 航行 的 水手 当 他 年幼 的 儿子 费尔南多 第一次 看到 陌生 的 父亲 站 在家 门前 一个 问题 脱口而出 那人 是 谁 这句 话 成为 横亘 在 父子 间 彼此 恐惧 深渊 的 开端 小说 从 父亲 之死 开始 讲述 日记 照片 和 父子 的 真实 对话 与 儿子 虚构 的 场景 和 心理 描写 相互 交融 情之 所感 文之所 至 这 是 一本 感人至深 的 回忆录 一曲 向 文学 与 电影 致敬 的 赞歌 一段 找寻 自我 和 父爱 的 环形 旅程 终点 是 那座 名叫 父亲 的 岛屿 n 推介 语 n 当 水手 的 父亲 常年 漂泊 在外 与 家人 聚少离多 在 孩子 心目 中 的 形象 是 零散 和 模糊 的 父亲 去世 后 费尔南多 马 里亚斯 凭借 父亲 留下 的 航海日志 开始 追寻 父亲 的 足迹 随着 时间 的 推移 父亲 的 形象 开始 慢慢 变得 丰满 和 完整 这是 亡父 与 儿子 的 对话 是 逝者 与 生者 的 交流 是 对 亡父 足迹 的 探寻 更是 对 生命 的 思索 nn 黑 腚 我 有 一个 梦想 nnnA 伊各尼 巴雷特 尼日利亚 新锐 作家 出 生于 一九七九年 二 〇 〇 五年 出版 的 第一部 短篇小说 集烂牙窟 为 他 赢得 了 该 年度 BBC 全球 服务 短篇小说 竞赛奖 二 〇 一 三年 第二部 短篇小说 集爱 就是 力量 问世 被 美国 国家 公共 电台 评为 该 年度 最佳 小说 二 〇 一 五年 发表 的 黑 腚 是 作者 的 第一部 长篇小说 作品 通过 人物 变形 黑人 一 觉醒 来后 变成 了 白人 后 的 种种 际遇 反映 真实 的 社会 生活 颇具 喜剧 性 的 讽刺 效果 n 内容简介 n 黑 腚 是 部 雄心勃勃 的 讬 寓性 小说 小说 主人公 弗洛 从 黑人 变成 了 白人 他 的 生活 也 随之 发生 了 不可思议 的 变化 一方面 他 轻而易举 地 找到 了 工作 美丽 的 女人 争着 投怀送抱 轻松 进入 了 上流 贵妇 的 社交圈 在 工作 事业 方面 有 无限 的 上升 空间 另一方面 他 又 要 想尽办法 掩饰 自己 的 真实 身份 不惜 抛弃 家人 摒弃 救 他 于 危难 已怀 身孕 的 情人 在 所 身处 环境 的 推动 下 弗洛 一步步 变成 了 一个 数典忘祖 的 白人 小说 用 大量 逼真 的 细节 切片 描绘 了 尼日利亚 社会 的 各个 层面 对于 全面 了解 这个 国家 认识 这个 国家 的 民族 性格 本书 无疑 是 一部 不可多得 的 佳作 n 推介 语 n 黑 腚 从 各 方面 看来 都 是 一部 无可挑剔 的 杰作 伊各尼 巴雷特 在 作品 中 轻松自如 地 使用 各种 实验性 极强 的 写作 手法 比如 变形 身份 转换 和 推特 的 语言 风格 等 让 整部 作品 充满 了 文本 的 快乐 而 在 所有 的 花哨 技巧 下 现实主义 关怀 才 是 真正 的 核心 所在 小说 用 大量 逼真 的 细节 切片 描绘 了 尼日利亚 社会 的 各个 层面 对于 全面 了解 这个 国家 认识 这个 国家 的 民族 性格 这 无疑 是 一部 不可多得 的 佳作 nn 酷暑 天 一部 关于 历史 的 小说 一部 关于 小说 的 小说 nnn 埃纳 尔茂尔古 德蒙 德松 冰岛 当代 最为 杰出 的 诗人 与 作家 之一 埃纳 尔 的 作品 类型 多样 至今 已 创作 了 包括 长篇小说 短篇小说 诗歌 电影剧本 及 社评 文章 在内 的 多部 作品 埃纳 尔 的 作品 广受 读者 欢迎 多数 作品 已 被 翻译成 外语 特别 是 一九九三年 出版 的 北欧 理事会 文学奖 获奖 图书 宇宙 天使 作为 一部 卓越 的 冰岛 当代文学 作品 在 世界 范围 内 取得 了 空前 的 成功 埃纳 尔 在 国际 文坛 上 亦 获奖 无数 一九八八年 获 冰岛 布勒斯 特 乐观 奖 一九九五年 获 北欧 理事会 文学奖 一九九九年 获 丹麦 学院 卡伦布 利克森 奖章 同年 获 意大利 朱塞佩 阿切 比 文学奖 二 〇 一 〇 年 获 挪威 比昂松 奖二 〇 一二年 获 瑞典文学院 北欧 文学奖 二 〇 一 五年 获 冰岛 文学奖 n 内容简介 n 酷暑 天是 一部 趣味盎然 的 小说 关乎 雄心 纷扰 缺点 脆弱 关乎 爱 与 激情 关乎 倏忽 即逝 又 充满 生命力 的 一切 关乎 串联 起 时间 的 那些 线索 故事 带领 我们 进入 酷暑 天 国王 约 伦德尔 火焰 牧师 永 斯泰因 格里 姆 松 等 人 的 世界 他们 的 故事 写 在 文献 与 资料 中 却 又 成为 流传后世 的 民间 传奇 这是 一个 充满 奇遇 色彩 的 故事 而 这场 奇遇 又 发生 在 真实 的 历史 之中 冰岛 的 火山爆发 点燃 了 法国 大革命 的 火种 革命 的 影响 又 蔓延 向 全世界 过去 之 于 现在 的 意义 或许 比 我们 想象 的 更加 重要 n 推介 语 n 酷暑 天是 一部 现代 的 冰岛 历史 小说 小说 的 叙事 者 具有 丰富 的 历史 知识 和 敏锐 的 观察力 把 横跨 数 世纪 的 冰岛 与 世界 历史 娓娓 道 出 小说 讲述 了 十九世纪 当 了 两个 月 冰岛 国王 的 一位 丹麦 人 的 真实 故事 来自 不同 年代 不同 国家 的 众多 历史 人物 轮番 登场 跨越 时空 在 书 中 际会 聚首 作者 把 虚构 与 真实 古代 与 现代 历史 与 现实 史学 与 文学 融为 一炉 作品 构思 巧妙 情节 生动 叙事 精彩 语言 流畅 这部 在 北欧 读者 中有 巨大 影响 的 作品 充分体现 了 作者 非凡 的 语言 才华 渊博 的 知识 才能 和 超群 的 叙事 技巧 nn 祖列 依哈 睁开 了 眼睛 与 各色人等 相遇 nnn 古泽 尔雅 辛娜 当代 俄国 女作家 1977 年 生于 喀山 毕业 于 国立 喀山 师范大学 外语系 1999 年 起 定居 莫斯科 从事 公关 广告 市场营销 等 方面 工作 2015 年 毕业 于 莫斯科 电影学院 编剧 系自 移居 莫斯科 后古泽 尔雅 辛娜 陆续 在 涅瓦 西伯利亚 星火 十月 等 杂志 发表 中 短篇小说 她 2015 年 的 首部 长篇小说 一炮打响 在 很 短时间 里 相继 获得 年度 最佳 小说 亚斯纳亚 波 利亚纳 奖大书奖 等 一系列 文坛 最高奖 成为 2015 年 俄国 文坛 最大 赢家 nn 作者 史 竞 男 杨春 n'"
      ]
     },
     "execution_count": 37,
     "metadata": {},
     "output_type": "execute_result"
    }
   ],
   "source": [
    "df['content'].values[sorted_res[a][0]]"
   ]
  },
  {
   "cell_type": "markdown",
   "metadata": {},
   "source": [
    "### 果然即使是余弦值最小的两个文本，看起来也不是很相似"
   ]
  },
  {
   "cell_type": "code",
   "execution_count": 38,
   "metadata": {},
   "outputs": [],
   "source": [
    "original_news_1 = df['content'].values[candidate_news[a]].replace(' ', '') \n",
    "original_news_2 = df['content'].values[sorted_res[a][0]].replace(' ', '')[:200]\n",
    "#orginal_news_2太长了，再计算edit_distance时超过了计算次数的限制，所以只取文本的前200个字符。"
   ]
  },
  {
   "cell_type": "markdown",
   "metadata": {},
   "source": [
    "### Edit Distance"
   ]
  },
  {
   "cell_type": "code",
   "execution_count": 39,
   "metadata": {},
   "outputs": [
    {
     "data": {
      "text/plain": [
       "6"
      ]
     },
     "execution_count": 39,
     "metadata": {},
     "output_type": "execute_result"
    }
   ],
   "source": [
    "from functools import lru_cache\n",
    "\n",
    "@lru_cache(maxsize=2**12)\n",
    "def edit_distance(string1,string2):\n",
    "    if len(string1) == 0: return(len(string2))\n",
    "    if len(string2) == 0: return (len(string1))\n",
    "    \n",
    "    tail_s1 = string1[-1]\n",
    "    tail_s2 = string2[-1]\n",
    "    \n",
    "    min_edit_distance=min([\n",
    "        \n",
    "        edit_distance(string1[:-1], string2) + 1,      #situation 1, string1 del tail\n",
    "        edit_distance(string1, string2[:-1]) + 1,      #situation 2, string1 add the tailof string2\n",
    "        edit_distance(string1[:-1], string2[:-1]) + (0 if tail_s1 ==  tail_s2 else 2)    #situation 3\n",
    "         \n",
    "    ])\n",
    "    \n",
    "    return min_edit_distance\n",
    "\n",
    "edit_distance(\"我今天确实不太想吃饭\", \"我今天真的不太像吃饭\")"
   ]
  },
  {
   "cell_type": "code",
   "execution_count": 40,
   "metadata": {},
   "outputs": [
    {
     "data": {
      "text/plain": [
       "311"
      ]
     },
     "execution_count": 40,
     "metadata": {},
     "output_type": "execute_result"
    }
   ],
   "source": [
    "edit_distance(original_news_1,original_news_2)  #果然很大！"
   ]
  },
  {
   "cell_type": "code",
   "execution_count": 41,
   "metadata": {},
   "outputs": [],
   "source": [
    "#Solution Parse to Edit-Distance, copied from wangshilin.\n",
    "@lru_cache(maxsize=2**10)\n",
    "def edit_distance_with_path(str1, str2):\n",
    "    \n",
    "    if not len(str1):return [len(str2), ' ']\n",
    "    \n",
    "    if not len(str2):return [len(str1), ' ']\n",
    "    \n",
    "    tail1 = str1[-1]\n",
    "    tail2 = str2[-1]\n",
    "     \n",
    "    _del = edit_distance_with_path(str1[:-1], str2)\n",
    "    _add = edit_distance_with_path(str1, str2[:-1])\n",
    "    _sub = edit_distance_with_path(str1[:-1], str2[:-1])\n",
    "    op_desc = {\n",
    "        \"del\":\" Del {}\".format(tail1),\n",
    "        \"add\":\" Add {}\".format(tail2),\n",
    "        \"sub0\":\"\",\n",
    "        \"sub2\":\" Sub {}=>{}\".format(tail1, tail2)\n",
    "    }\n",
    "    # [distance, operator]\n",
    "    operator = [\n",
    "        [_del[0] + 1, _del[1] + op_desc[\"del\"]],\n",
    "        [_add[0] + 1, _add[1] + op_desc[\"add\"]],  \n",
    "        [_sub[0] + (0 if tail1 == tail2 else 2), _sub[1] + op_desc[\"sub\" + ('0' if tail1 == tail2 else '2')]],\n",
    "    ]\n",
    "    min_op =  min(operator, key=lambda x : x[0])\n",
    "    return min_op"
   ]
  },
  {
   "cell_type": "code",
   "execution_count": 42,
   "metadata": {},
   "outputs": [
    {
     "data": {
      "text/plain": [
       "[6, '  Add 真 Add 的 Del 确 Del 实 Add 像 Del 想']"
      ]
     },
     "execution_count": 42,
     "metadata": {},
     "output_type": "execute_result"
    }
   ],
   "source": [
    "edit_distance_with_path(\"我今天确实不太想吃饭\", \"我今天真的不太像吃饭\")"
   ]
  },
  {
   "cell_type": "code",
   "execution_count": 43,
   "metadata": {},
   "outputs": [
    {
     "data": {
      "text/plain": [
       "[311,\n",
       " '  Del 新 Del 华 Del 社 Del 照 Del 片 Del 南 Del 京 Del 0 Add 世 Add 纪 Del 7 Add 度 Add 最 Add 佳 Add 外 Add 国 Del 4 Del 月 Del 1 Del 1 Del 日 Del n Del 体 Del 育 Del 5 Del 足 Del 球 Del 亚 Del 冠 Add 说 Add 奖 Del 组 Del 赛 Del 江 Del 苏 Del 苏 Del 宁 Del 战 Del 胜 Del 大 Del 阪 Del 钢 Del 巴 Del 4 Del 月 Del 1 Del 1 Del 日 Del 江 Del 苏 Del 苏 Del 宁 Del 队 Del 门 Del 将 Del 张 Del 思 Del 鹏 Del 上 Del 在 Del 比 Del 赛 Add 国 Add 标 Add 准 Add 世 Add 界 Add 眼 Add 光 Add 由 Add 人 Add 民 Add 文 Add 学 Add 出 Add 版 Add 社 Add 与 Add 中 Add 国 Add 外 Add 国 Add 文 Add 学 Add 学 Add 会 Del 扑 Del 救 Del n Del 当 Del 日 Add 2 Add 0 Add 0 Add 1 Add 年 Add 共 Add 同 Add 发 Add 起 Del 江 Del 苏 Del 南 Del 京 Del 举 Del 行 Add 这 Add 一 Add 奖 Add 项 Add 截 Add 至 Add 6 Add 年 Add 已 Add 成 Add 功 Add 举 Add 办 Add 了 Add 1 Add 5 Add 届 Add 共 Add 有 Add 2 Add 4 Add 个 Del 7 Del 赛 Del 季 Del 亚 Del 冠 Del 联 Del 赛 Del H Del 组 Del 第 Del 四 Del 轮 Del 比 Del 赛 Del 中 Del 中 Add 家 Add 的 Add 9 Add 2 Add 位 Add 作 Add 家 Add 的 Add 作 Add 品 Add 获 Add 奖 Add 挖 Add 掘 Add 出 Add 版 Add 了 Add 不 Add 少 Add 当 Add 代 Add 外 Add 国 Add 文 Add 学 Add 名 Add 家 Del 江 Del 苏 Del 苏 Del 宁 Del 队 Del 主 Del 场 Del 以 Del 3 Del 比 Del 0 Del 战 Del 胜 Del 日 Del 本 Add 家 Del 阪 Del 钢 Del 巴 Del 队 Del 以 Del 小 Del 组 Del 赛 Del 四 Del 战 Del 全 Del 胜 Add 作 Add 品 Del 成 Del 绩 Del 提 Del 前 Del 两 Del 轮 Del 进 Del 入 Del 淘 Del 汰 Del 赛 Add 日 Del 新 Del 华 Del 社 Del 记 Del 者 Del 杨 Del 磊 Del 摄']"
      ]
     },
     "execution_count": 43,
     "metadata": {},
     "output_type": "execute_result"
    }
   ],
   "source": [
    "edit_distance_with_path(original_news_1,original_news_2)"
   ]
  }
 ],
 "metadata": {
  "kernelspec": {
   "display_name": "Python 3",
   "language": "python",
   "name": "python3"
  },
  "language_info": {
   "codemirror_mode": {
    "name": "ipython",
    "version": 3
   },
   "file_extension": ".py",
   "mimetype": "text/x-python",
   "name": "python",
   "nbconvert_exporter": "python",
   "pygments_lexer": "ipython3",
   "version": "3.6.4"
  }
 },
 "nbformat": 4,
 "nbformat_minor": 2
}
