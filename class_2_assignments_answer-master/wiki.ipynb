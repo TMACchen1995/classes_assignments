{
 "cells": [
  {
   "cell_type": "code",
   "execution_count": 2,
   "metadata": {},
   "outputs": [
    {
     "data": {
      "text/plain": [
       "'utf-8'"
      ]
     },
     "execution_count": 2,
     "metadata": {},
     "output_type": "execute_result"
    }
   ],
   "source": [
    "import chardet  #可以判别字符的编码方式 详见 \n",
    "         # https://www.cnblogs.com/xiaowuyi/archive/2012/03/09/2387173.html\n",
    "    \n",
    "database=open(\"./data/text/AA/wiki_00\",\"rb\")    #以二进制的方式打开。\n",
    "contents=database.readline()   #返回的是字符串类型。而readlines(一下读取所有行)返回则是list。\n",
    "res=chardet.detect(contents)   #chardet.detect用来检测编码方式\n",
    "res[\"encoding\"]"
   ]
  },
  {
   "cell_type": "code",
   "execution_count": 3,
   "metadata": {},
   "outputs": [],
   "source": [
    "#将AA文件夹中的所有的txt文件合并到data文件夹下面的n2one_.txt文件中。还是比较好懂的。\n",
    "# import os,shutil\n",
    "# def combine_n_files(original_path,target_path): \n",
    "#     txtpath=original_path \n",
    "#     namelist=[x for x in os.listdir(txtpath)]   #os.listdir(txtpath) 返回的是在txtpath下面的所有文件，在一个list里\n",
    "#     namelist.sort(key=lambda x:int(x[-2:])) #对文件名进行排序，因为os.listidr(txtpath)出来的文件名并不会按顺序。\n",
    "#     #print(len(namelist))     #100 \n",
    "#     outfilename=target_path\n",
    "#     outfile=open(outfilename,'a')#a没有文件可以创建，以append的方式写入，这样不会覆盖前一次的内容\n",
    "#     for i in range( len(namelist) ): \n",
    "#         datapath = os.path.join(txtpath, namelist[i]) #将路径拼在一起。\n",
    "#         #print(datapath) \n",
    "#         file=open(datapath,'r') \n",
    "#         shutil.copyfileobj(file,outfile)   #讲file中的内容拷贝到outfile中。\n",
    "#         file.close() \n",
    "#     outfile.close()\n",
    "# combine_n_files('./data/text/AA','./data/wiki/n2one_01' )\n",
    "# combine_n_files('./data/text/AB','./data/wiki/n2one_02' )\n",
    "# combine_n_files('./data/text/AC','./data/wiki/n2one_03' )\n",
    "#发现自己对文件的一些操作不熟悉。看看东哥的视频。\n"
   ]
  },
  {
   "cell_type": "code",
   "execution_count": 4,
   "metadata": {},
   "outputs": [],
   "source": [
    "#将得到的'./data/wiki'下的txt文件合并成\"./data/combination_file\"  组成一个较大的预料\n",
    "# combine_n_files('./data/wiki',\"./data/combination_file\")"
   ]
  },
  {
   "cell_type": "code",
   "execution_count": 3,
   "metadata": {},
   "outputs": [
    {
     "data": {
      "text/plain": [
       "['<doc id=\"13\" url=\"https://zh.wikipedia.org/wiki?curid=13\" title=\"数学\">\\n',\n",
       " '数学\\n',\n",
       " '\\n',\n",
       " '数学是利用符号语言研究數量、结构、变化以及空间等概念的一門学科，从某种角度看屬於形式科學的一種。數學透過抽象化和邏輯推理的使用，由計數、計算、量度和對物體形狀及運動的觀察而產生。數學家們拓展這些概念，為了公式化新的猜想以及從選定的公理及定義中建立起嚴謹推導出的定理。\\n',\n",
       " '\\n',\n",
       " '基礎數學的知識與運用總是個人與團體生活中不可或缺的一環。對數學基本概念的完善，早在古埃及、美索不達米亞及古印度內的古代數學文本便可觀見，而在古希臘那裡有更為嚴謹的處理。從那時開始，數學的發展便持續不斷地小幅進展，至16世紀的文藝復興時期，因为新的科學發現和數學革新兩者的交互，致使數學的加速发展，直至今日。数学并成为許多國家及地區的教育範疇中的一部分。\\n',\n",
       " '\\n',\n",
       " '今日，數學使用在不同的領域中，包括科學、工程、醫學、經濟學和金融學等。數學對這些領域的應用通常被稱為應用數學，有時亦會激起新的數學發現，並導致全新學科的發展，例如物理学的实质性发展中建立的某些理论激发数学家对于某些问题的不同角度的思考。數學家也研究純數學，就是數學本身的实质性內容，而不以任何實際應用為目標。雖然許多研究以純數學開始，但其过程中也發現許多應用之处。\\n',\n",
       " '\\n',\n",
       " '西方语言中“數學”（）一詞源自於古希臘語的（），其有“學習”、“學問”、“科學”，以及另外還有個較狹義且技術性的意思－「數學研究」，即使在其語源內。其形容詞（），意思為\"和學習有關的\"或\"用功的\"，亦會被用來指\"數學的\"。其在英语中表面上的複數形式，及在法语中的表面複數形式\\'，可溯至拉丁文的中性複數\\'，由西塞罗譯自希臘文複數（），此一希臘語被亚里士多德拿來指「萬物皆數」的概念。\\n']"
      ]
     },
     "execution_count": 3,
     "metadata": {},
     "output_type": "execute_result"
    }
   ],
   "source": [
    "import re\n",
    "\n",
    "\n",
    "database=open(\"./data/wiki/n2one_01\")  #这样写只能读取一个text文件，能否改进一下，\n",
    "                                        #一下子可以读取AA下面的所有的text文件。\n",
    "contents=database.readlines()   #返回的是一个list，注意read(),readline(),readlines()三者之间的区别\n",
    "\n",
    "contents[:10]\n"
   ]
  },
  {
   "cell_type": "code",
   "execution_count": 4,
   "metadata": {},
   "outputs": [
    {
     "data": {
      "text/plain": [
       "['doc',\n",
       " 'id',\n",
       " '13',\n",
       " 'url',\n",
       " 'https',\n",
       " 'zh',\n",
       " 'wikipedia',\n",
       " 'org',\n",
       " 'wiki',\n",
       " 'curid',\n",
       " '13',\n",
       " 'title',\n",
       " '数学',\n",
       " '数学',\n",
       " '数学是利用符号语言研究數量',\n",
       " '结构',\n",
       " '变化以及空间等概念的一門学科',\n",
       " '从某种角度看屬於形式科學的一種',\n",
       " '數學透過抽象化和邏輯推理的使用',\n",
       " '由計數']"
      ]
     },
     "execution_count": 4,
     "metadata": {},
     "output_type": "execute_result"
    }
   ],
   "source": [
    "def token(string):\n",
    "    pattern=\"[\\w|\\d]+\"\n",
    "    return re.findall(pattern,string)\n",
    "\n",
    "tokens=token(\"\".join(contents))\n",
    "tokens[:20]\n"
   ]
  },
  {
   "cell_type": "code",
   "execution_count": 5,
   "metadata": {},
   "outputs": [
    {
     "data": {
      "text/plain": [
       "66838600"
      ]
     },
     "execution_count": 5,
     "metadata": {},
     "output_type": "execute_result"
    }
   ],
   "source": [
    "text=\"\"\n",
    "for i in tokens:\n",
    "    text+=i \n",
    "TEXT=text\n",
    "\n",
    "len(TEXT)"
   ]
  },
  {
   "cell_type": "markdown",
   "metadata": {},
   "source": [
    "## Get all tokens"
   ]
  },
  {
   "cell_type": "code",
   "execution_count": 6,
   "metadata": {},
   "outputs": [
    {
     "name": "stderr",
     "output_type": "stream",
     "text": [
      "Building prefix dict from the default dictionary ...\n",
      "Dumping model to file cache /tmp/jieba.cache\n",
      "Loading model cost 0.804 seconds.\n",
      "Prefix dict has been built succesfully.\n"
     ]
    },
    {
     "data": {
      "text/plain": [
       "['docid13urlhttpszhwikipediaorgwikicurid13title',\n",
       " '数学',\n",
       " '数学',\n",
       " '数学',\n",
       " '是',\n",
       " '利用',\n",
       " '符号语言',\n",
       " '研究',\n",
       " '数量',\n",
       " '结构',\n",
       " '变化',\n",
       " '以及',\n",
       " '空间',\n",
       " '等',\n",
       " '概念',\n",
       " '的',\n",
       " '一门',\n",
       " '学科',\n",
       " '从',\n",
       " '某种']"
      ]
     },
     "execution_count": 6,
     "metadata": {},
     "output_type": "execute_result"
    }
   ],
   "source": [
    "import jieba\n",
    "from hanziconv import HanziConv\n",
    "from collections import Counter\n",
    "\n",
    "def cut(string): return list(jieba.cut(HanziConv.toSimplified(string)))\n",
    "    \n",
    "all_tokens=cut(TEXT)\n",
    "all_tokens[:20]\n"
   ]
  },
  {
   "cell_type": "code",
   "execution_count": 7,
   "metadata": {},
   "outputs": [
    {
     "data": {
      "text/plain": [
       "[('的', 1969544),\n",
       " ('在', 508814),\n",
       " ('年', 407868),\n",
       " ('是', 363754),\n",
       " ('和', 315242),\n",
       " ('了', 251098),\n",
       " ('为', 227336),\n",
       " ('与', 182790),\n",
       " ('有', 173466),\n",
       " ('月', 172176)]"
      ]
     },
     "execution_count": 7,
     "metadata": {},
     "output_type": "execute_result"
    }
   ],
   "source": [
    "counter=Counter(all_tokens)\n",
    "counter.most_common(10)\n"
   ]
  },
  {
   "cell_type": "code",
   "execution_count": 8,
   "metadata": {},
   "outputs": [
    {
     "data": {
      "text/plain": [
       "33365075"
      ]
     },
     "execution_count": 8,
     "metadata": {},
     "output_type": "execute_result"
    }
   ],
   "source": [
    "len_all_tokens=len(all_tokens)     #gaining the length of all tokens\n",
    "len_all_tokens"
   ]
  },
  {
   "cell_type": "code",
   "execution_count": 9,
   "metadata": {},
   "outputs": [
    {
     "data": {
      "text/plain": [
       "1.4506186483920687e-05"
      ]
     },
     "execution_count": 9,
     "metadata": {},
     "output_type": "execute_result"
    }
   ],
   "source": [
    "def get_prop(string):\n",
    "    '''\n",
    "    get single token prop\n",
    "    '''\n",
    "    if string in all_tokens:\n",
    "        #print(\"1\"*30)\n",
    "        return counter[string]/len_all_tokens\n",
    "    else:\n",
    "        #print(\"2\"*30)\n",
    "        return 1/len_all_tokens\n",
    "\n",
    "get_prop(\"美学\")  #测试\n",
    "\n"
   ]
  },
  {
   "cell_type": "code",
   "execution_count": 10,
   "metadata": {},
   "outputs": [
    {
     "data": {
      "text/plain": [
       "2.997145967752208e-08"
      ]
     },
     "execution_count": 10,
     "metadata": {},
     "output_type": "execute_result"
    }
   ],
   "source": [
    "1/len_all_tokens"
   ]
  },
  {
   "cell_type": "code",
   "execution_count": 11,
   "metadata": {},
   "outputs": [
    {
     "data": {
      "text/plain": [
       "24"
      ]
     },
     "execution_count": 11,
     "metadata": {},
     "output_type": "execute_result"
    }
   ],
   "source": [
    "from functools import reduce\n",
    "def product(numbers):\n",
    "    '''get the prop of a series words'''\n",
    "    return reduce(lambda n1,n2 : n1*n2,numbers)\n",
    "product([1,2,3,4])  #测试\n"
   ]
  },
  {
   "cell_type": "code",
   "execution_count": 35,
   "metadata": {},
   "outputs": [
    {
     "data": {
      "text/plain": [
       "'於'"
      ]
     },
     "execution_count": 35,
     "metadata": {},
     "output_type": "execute_result"
    }
   ],
   "source": [
    "# from langconv import *\n",
    "# '''using to convert simple Chinese words to tradition ones'''\n",
    "# def simple_to_traditional(string):\n",
    "#     string = Converter('zh-hant').convert(string)\n",
    "#     line = string.encode('utf-8')\n",
    "#     return string\n",
    "# simple_to_traditional(\"美学\")\n",
    "# simple_to_traditional(\"于\")\n",
    "# #get_prop(simple_to_traditional(\"于\"))\n"
   ]
  },
  {
   "cell_type": "markdown",
   "metadata": {},
   "source": [
    "## 繁简体转化还有更加简便的方法： https://pythonhosted.org/hanziconv/"
   ]
  },
  {
   "cell_type": "code",
   "execution_count": 12,
   "metadata": {},
   "outputs": [
    {
     "data": {
      "text/plain": [
       "1.565753514378645e-23"
      ]
     },
     "execution_count": 12,
     "metadata": {},
     "output_type": "execute_result"
    }
   ],
   "source": [
    "def language_model_of_one_gram(string):\n",
    "    \n",
    "    words=cut(string)\n",
    "    return product([get_prop(w) for w in words])\n",
    "language_model_of_one_gram(\"美学在哲学中是很重要的\")\n",
    "\n"
   ]
  },
  {
   "cell_type": "code",
   "execution_count": 69,
   "metadata": {},
   "outputs": [
    {
     "name": "stdout",
     "output_type": "stream",
     "text": [
      "明天晚上请你吃大餐，我们一起吃苹果 is more possible\n",
      "----今天晚上请你吃大餐，我们一起吃日料:5.300534425938918e-54\n",
      "----明天晚上请你吃大餐，我们一起吃苹果:2.610747132825905e-52\n",
      "真是一只好看的小猫 is more possible\n",
      "----真事一只好看的小猫:3.978934361203441e-26\n",
      "----真是一只好看的小猫:4.134276697912831e-23\n",
      "我吃火锅 is more possible\n",
      "----我吃火锅:1.402048527230239e-11\n",
      "----火锅吃我:1.5224536123764878e-13\n",
      "养乐多绿来一杯 is more possible\n",
      "----洋葱奶昔来一杯:6.47837683348241e-22\n",
      "----养乐多绿来一杯:2.670763030023824e-20\n",
      "这房子花了一千万 is more possible\n",
      "----这房子花了一千万:1.389740227757524e-20\n",
      "----这房子花了一千块:2.481678978138436e-22\n",
      "这姑娘长得美丽 is more possible\n",
      "----这姑娘长得美丽:1.326521882263847e-18\n",
      "----这哥们儿长得真美丽:1.035813758220796e-24\n",
      "真幸运抽到一个苹果 is more possible\n",
      "----真幸运抽到一个苹果:1.0917748366843936e-23\n",
      "----真幸运抽到一台电脑:2.5957421537348714e-25\n"
     ]
    }
   ],
   "source": [
    "comparsion=[\n",
    "    \"今天晚上请你吃大餐，我们一起吃日料 明天晚上请你吃大餐，我们一起吃苹果\",\n",
    "    \"真事一只好看的小猫 真是一只好看的小猫\",\n",
    "    \"我吃火锅 火锅吃我\",\n",
    "    \"洋葱奶昔来一杯 养乐多绿来一杯\",\n",
    "    \"这房子花了一千万 这房子花了一千块\",\n",
    "    \"这姑娘长得美丽 这哥们儿长得真美丽\",\n",
    "    \"真幸运抽到一个苹果 真幸运抽到一台电脑\"\n",
    "    \n",
    "]\n",
    "\n",
    "for i in comparsion:\n",
    "    s1,s2=i.split()\n",
    "    p1,p2=language_model_of_one_gram(s1),language_model_of_one_gram(s2)\n",
    "    better=s1 if p1>p2 else s2\n",
    "    print(\"{} is more possible\".format(better))\n",
    "    print(\"-\"*4+\"{}:{}\".format(s1,p1))\n",
    "    print(\"-\"*4+\"{}:{}\".format(s2,p2))\n",
    "    \n",
    "    #第一个和最后一个判断错了  而且概率均有数量级的差别\n",
    "    "
   ]
  },
  {
   "cell_type": "markdown",
   "metadata": {},
   "source": [
    "## Two-gram"
   ]
  },
  {
   "cell_type": "code",
   "execution_count": 40,
   "metadata": {},
   "outputs": [
    {
     "data": {
      "text/plain": [
       "[('formula_', 26116),\n",
       " ('他的', 25504),\n",
       " ('中的', 24976),\n",
       " ('也是', 19660),\n",
       " ('上的', 16624),\n",
       " ('12月', 15284),\n",
       " ('年的', 15192),\n",
       " ('10月', 14426),\n",
       " ('9月', 14246),\n",
       " ('3月', 14136)]"
      ]
     },
     "execution_count": 40,
     "metadata": {},
     "output_type": "execute_result"
    }
   ],
   "source": [
    "#all_tokens=cut(TEXT)\n",
    "_all_2_grams=[\"\".join(all_tokens[i:i+2]) for i in range(len(all_tokens[:-2]))]\n",
    "_len_of_all_2_grams=len(_all_2_grams)\n",
    "counter_2_grams=Counter(_all_2_grams)\n",
    "counter_2_grams.most_common(10)"
   ]
  },
  {
   "cell_type": "code",
   "execution_count": 70,
   "metadata": {},
   "outputs": [
    {
     "data": {
      "text/plain": [
       "2.3977169179279184e-07"
      ]
     },
     "execution_count": 70,
     "metadata": {},
     "output_type": "execute_result"
    }
   ],
   "source": [
    "def combain_prop(w1,w2):\n",
    "    if w1+w2 in counter_2_grams:#这里写 in _all_2_grams 或者 counter_of_2_grams均可\n",
    "        return counter_2_grams[w1+w2]/_len_of_all_2_grams\n",
    "    else: return 1/_len_of_all_2_grams\n",
    "combain_prop(\"大家\",\"好\")"
   ]
  },
  {
   "cell_type": "code",
   "execution_count": 71,
   "metadata": {},
   "outputs": [
    {
     "data": {
      "text/plain": [
       "0.0020661158263283533"
      ]
     },
     "execution_count": 71,
     "metadata": {},
     "output_type": "execute_result"
    }
   ],
   "source": [
    "def _2_gram_prop(w1,w2):\n",
    "    return combain_prop(w1,w2)/get_prop(w1)\n",
    "_2_gram_prop(\"美学\",\"好\")\n",
    "# get_prop(\"美学\")\n"
   ]
  },
  {
   "cell_type": "code",
   "execution_count": 72,
   "metadata": {},
   "outputs": [
    {
     "data": {
      "text/plain": [
       "3.5898340171084758e-12"
      ]
     },
     "execution_count": 72,
     "metadata": {},
     "output_type": "execute_result"
    }
   ],
   "source": [
    "def language_model_of_2_gram(sentence):\n",
    "    sentence_prop=1\n",
    "    words=cut(sentence)\n",
    "    for k,word in enumerate(words):\n",
    "        if k == 0: \n",
    "            prop=get_prop(word)\n",
    "        else:\n",
    "            previous=words[k-1]\n",
    "            prop=_2_gram_prop(previous,word)\n",
    "            sentence_prop*=prop\n",
    "    return sentence_prop\n",
    "    \n",
    "language_model_of_2_gram(\"詹姆斯哈登取得常规赛MVP\")\n",
    "language_model_of_2_gram(\"休斯顿火箭队取得西部第二\")"
   ]
  },
  {
   "cell_type": "code",
   "execution_count": 73,
   "metadata": {},
   "outputs": [
    {
     "name": "stdout",
     "output_type": "stream",
     "text": [
      "明天晚上请你吃大餐，我们一起吃苹果 is more possible\n",
      "----今天晚上请你吃大餐，我们一起吃日料:1.600181372990644e-23\n",
      "----明天晚上请你吃大餐，我们一起吃苹果:4.0025315901038707e-23\n",
      "真是一只好看的小猫 is more possible\n",
      "----真事一只好看的小猫:3.217879513500912e-16\n",
      "----真是一只好看的小猫:1.033306338520375e-11\n",
      "我吃火锅 is more possible\n",
      "----我吃火锅:6.40697116826578e-05\n",
      "----火锅吃我:1.1040453540516801e-05\n",
      "养乐多绿来一杯 is more possible\n",
      "----洋葱奶昔来一杯:6.17798894034399e-07\n",
      "----养乐多绿来一杯:0.1250000149857312\n",
      "这房子花了一千万 is more possible\n",
      "----这房子花了一千万:2.6351216091071734e-13\n",
      "----这房子花了一千块:1.3175608045535867e-13\n",
      "这姑娘长得美丽 is more possible\n",
      "----这姑娘长得美丽:7.737565692607859e-10\n",
      "----这哥们儿长得真美丽:2.969921792375946e-11\n",
      "真幸运抽到一台电脑 is more possible\n",
      "----真幸运抽到一个苹果:3.820720249438942e-11\n",
      "----真幸运抽到一台电脑:8.162100982498908e-09\n"
     ]
    }
   ],
   "source": [
    "comparsion=[\n",
    "    \"今天晚上请你吃大餐，我们一起吃日料 明天晚上请你吃大餐，我们一起吃苹果\",\n",
    "    \"真事一只好看的小猫 真是一只好看的小猫\",\n",
    "    \"我吃火锅 火锅吃我\",\n",
    "    \"洋葱奶昔来一杯 养乐多绿来一杯\",\n",
    "    \"这房子花了一千万 这房子花了一千块\",\n",
    "    \"这姑娘长得美丽 这哥们儿长得真美丽\",\n",
    "    \"真幸运抽到一个苹果 真幸运抽到一台电脑\"\n",
    "]\n",
    "\n",
    "for i in comparsion:\n",
    "    s1,s2=i.split()\n",
    "    p1,p2=language_model_of_2_gram(s1),language_model_of_2_gram(s2)\n",
    "    better=s1 if p1>p2 else s2\n",
    "    print(\"{} is more possible\".format(better))\n",
    "    print(\"-\"*4+\"{}:{}\".format(s1,p1))\n",
    "    print(\"-\"*4+\"{}:{}\".format(s2,p2))\n",
    "    \n",
    "    #第一个判断错了 但是没有数量级的差别。"
   ]
  }
 ],
 "metadata": {
  "kernelspec": {
   "display_name": "Python 3",
   "language": "python",
   "name": "python3"
  },
  "language_info": {
   "codemirror_mode": {
    "name": "ipython",
    "version": 3
   },
   "file_extension": ".py",
   "mimetype": "text/x-python",
   "name": "python",
   "nbconvert_exporter": "python",
   "pygments_lexer": "ipython3",
   "version": "3.6.4"
  }
 },
 "nbformat": 4,
 "nbformat_minor": 2
}
