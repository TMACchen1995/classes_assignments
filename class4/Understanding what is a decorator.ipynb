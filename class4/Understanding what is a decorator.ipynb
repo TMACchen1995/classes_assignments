{
 "cells": [
  {
   "cell_type": "markdown",
   "metadata": {},
   "source": [
    "## 装饰器应用在特定的场合\n",
    "#### 1. 子问题多次重复(overlapping)"
   ]
  },
  {
   "cell_type": "code",
   "execution_count": 9,
   "metadata": {
    "collapsed": true
   },
   "outputs": [],
   "source": [
    "import time\n",
    "def func(n):\n",
    "    [print(n) for i in range(10)]\n",
    "    \n",
    "    \n",
    "    \n",
    "def func_1(n):\n",
    "    for i in range(10):\n",
    "        time.sleep(0.2)\n",
    "        print(n)\n",
    "        \n",
    "\n",
    "\n",
    "        "
   ]
  },
  {
   "cell_type": "code",
   "execution_count": 10,
   "metadata": {},
   "outputs": [
    {
     "name": "stdout",
     "output_type": "stream",
     "text": [
      "10\n",
      "10\n",
      "10\n",
      "10\n",
      "10\n",
      "10\n",
      "10\n",
      "10\n",
      "10\n",
      "10\n"
     ]
    }
   ],
   "source": [
    "func(10)"
   ]
  },
  {
   "cell_type": "code",
   "execution_count": 11,
   "metadata": {},
   "outputs": [
    {
     "name": "stdout",
     "output_type": "stream",
     "text": [
      "10\n",
      "10\n",
      "10\n",
      "10\n",
      "10\n",
      "10\n",
      "10\n",
      "10\n",
      "10\n",
      "10\n"
     ]
    }
   ],
   "source": [
    "func_1(10)"
   ]
  },
  {
   "cell_type": "code",
   "execution_count": 15,
   "metadata": {},
   "outputs": [
    {
     "name": "stdout",
     "output_type": "stream",
     "text": [
      "10\n",
      "10\n",
      "10\n",
      "10\n",
      "10\n",
      "10\n",
      "10\n",
      "10\n",
      "10\n",
      "10\n",
      "Used time is 0.2007606029510498\n"
     ]
    }
   ],
   "source": [
    "#if  we want kown the run time of all produces, when the number of produces is small, itis possible to add code in all the produces,\n",
    "#while the number is ver large, to enhance the efficient, in the help of a decorator is a wiser method \n",
    "\n",
    "def func_1(n):\n",
    "    start=time.time()\n",
    "    [print(n) for i in range(10)]\n",
    "    time.sleep(0.2)\n",
    "    print(\"Used time is {}\".format(time.time() - start))\n",
    "          \n",
    "func_1(10)\n",
    "\n",
    "#Of cousre in func we also can add the same code like the one i  func(), to calculate the time used, but a decorator can be more convenient"
   ]
  },
  {
   "cell_type": "code",
   "execution_count": 16,
   "metadata": {},
   "outputs": [
    {
     "name": "stdout",
     "output_type": "stream",
     "text": [
      "10\n",
      "10\n",
      "10\n",
      "10\n",
      "10\n",
      "10\n",
      "10\n",
      "10\n",
      "10\n",
      "10\n",
      "Uesd time is 0.0\n"
     ]
    }
   ],
   "source": [
    "#Coding a addtional function which is used to calculate the time a produce used specially. 俗称脚手架程序。\n",
    "\n",
    "import time\n",
    "\n",
    "def func(n):\n",
    "    [print(n) for i in range(10)]\n",
    "      \n",
    "    \n",
    "def func_1(n):\n",
    "    for i in range(10):\n",
    "        time.sleep(0.2)\n",
    "        print(n)\n",
    "        \n",
    "\n",
    "def calculate_used_time(func,args):\n",
    "    start=time.time()\n",
    "    func(args)\n",
    "    print(\"Uesd time is {}\".format(time.time()-start))\n",
    "    \n",
    "calculate_used_time(func,10)"
   ]
  },
  {
   "cell_type": "code",
   "execution_count": 17,
   "metadata": {},
   "outputs": [
    {
     "name": "stdout",
     "output_type": "stream",
     "text": [
      "10\n",
      "10\n",
      "10\n",
      "10\n",
      "10\n",
      "10\n",
      "10\n",
      "10\n",
      "10\n",
      "10\n",
      "Uesd time is 2.0041096210479736\n"
     ]
    }
   ],
   "source": [
    "calculate_used_time(func_1,10)"
   ]
  },
  {
   "cell_type": "code",
   "execution_count": 18,
   "metadata": {},
   "outputs": [
    {
     "name": "stdout",
     "output_type": "stream",
     "text": [
      "10\n",
      "10\n",
      "10\n",
      "10\n",
      "10\n",
      "10\n",
      "10\n",
      "10\n",
      "10\n",
      "10\n",
      "Uesd time is 2.005256414413452\n"
     ]
    }
   ],
   "source": [
    "#Setting a addtional function is a not bad way, but not convenient enough\n",
    "\n",
    "def decorator_to_calculate_time(func):\n",
    "    def __inner(arg):\n",
    "        start=time.time()\n",
    "        func(arg)\n",
    "        print(\"Uesd time is {}\".format(time.time()-start))\n",
    "    return __inner\n",
    "\n",
    "new_func_1_from_decorator_to_calculate_time=decorator_to_calculate_time(func_1)\n",
    "#decorator_to_calculate_time is actually a decorator, in python 2.5 or latter versions using \"@\" represent a decorator"
   ]
  },
  {
   "cell_type": "code",
   "execution_count": 19,
   "metadata": {},
   "outputs": [
    {
     "name": "stdout",
     "output_type": "stream",
     "text": [
      "__inner\n"
     ]
    }
   ],
   "source": [
    "print(new_func_1_from_decorator_to_calculate_time.__name__)   #new_func_1_from_decorator_to_calculate_time is the __inner function"
   ]
  },
  {
   "cell_type": "code",
   "execution_count": 20,
   "metadata": {},
   "outputs": [
    {
     "name": "stdout",
     "output_type": "stream",
     "text": [
      "10\n",
      "10\n",
      "10\n",
      "10\n",
      "10\n",
      "10\n",
      "10\n",
      "10\n",
      "10\n",
      "10\n",
      "Uesd time is 2.0037989616394043\n"
     ]
    }
   ],
   "source": [
    "new_func_1_from_decorator_to_calculate_time(10)   #new_func_1_from_decorator_to_calculate_time accept the arg then print the used time"
   ]
  },
  {
   "cell_type": "code",
   "execution_count": 22,
   "metadata": {},
   "outputs": [
    {
     "name": "stdout",
     "output_type": "stream",
     "text": [
      "10\n",
      "10\n",
      "10\n",
      "10\n",
      "10\n",
      "10\n",
      "10\n",
      "10\n",
      "10\n",
      "10\n",
      "Uesd time is 2.0052313804626465\n"
     ]
    }
   ],
   "source": [
    "# so we can just add one line at the begining of a function to accomplish the goal of calculating the used time of a produce.\n",
    "\n",
    "@decorator_to_calculate_time\n",
    "def func_1(n):\n",
    "    for i in range(10):\n",
    "        time.sleep(0.2)\n",
    "        print(n) \n",
    "func_1(10)"
   ]
  },
  {
   "cell_type": "markdown",
   "metadata": {},
   "source": [
    "## About a decorator, we still be careful about two points, more details, see the viedo of the class4."
   ]
  }
 ],
 "metadata": {
  "kernelspec": {
   "display_name": "Python 3",
   "language": "python",
   "name": "python3"
  },
  "language_info": {
   "codemirror_mode": {
    "name": "ipython",
    "version": 3
   },
   "file_extension": ".py",
   "mimetype": "text/x-python",
   "name": "python",
   "nbconvert_exporter": "python",
   "pygments_lexer": "ipython3",
   "version": "3.6.0"
  }
 },
 "nbformat": 4,
 "nbformat_minor": 2
}
