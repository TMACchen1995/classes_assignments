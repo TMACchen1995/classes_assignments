{
 "cells": [
  {
   "cell_type": "markdown",
   "metadata": {},
   "source": [
    "## 第七课内容回顾和总结\n",
    "\n",
    "\n",
    "\n",
    "```\n",
    "用KNN，当数据比较大的时候会占大量的内存，从而会影响电脑其他的应用。\n",
    "\n",
    "Decision Tree 占用的内存比较小，在数据比较大的时候，比KNN更适合解决问题。\n",
    "\n",
    "naive Bayes \n",
    "\n",
    "neural network  参数会随着训练集自己更新。\n",
    "\n",
    "\n",
    "\n",
    "\n",
    "机器学习的两大任务类型：\n",
    "Classification\n",
    "\n",
    "Regression\n",
    "\n",
    "\n",
    "\n",
    "何如衡量一个模型的好坏，一些常见的指标\n",
    "1. Accuracy\n",
    "2. Percision\n",
    "3. Recall\n",
    "4. AUC/AOC\n",
    "5. F1_score, F2_score\n",
    "6. MSE\n",
    "7. Loss function\n",
    "\n",
    "\n",
    "\n",
    "着重讲解了Percision和Recall\n",
    "\n",
    "Percision = tp/(tp + fp)\n",
    "Recall  = tp/(tp + fn)\n",
    "\n",
    "两者之间的关系犹如跷跷板的两端， 往往不能兼顾，有些指标同时涵盖了percision和Recall,如PR，F1_acore, F2_score\n",
    "\n",
    "\n",
    "\n",
    "\n",
    "\n",
    "```"
   ]
  },
  {
   "cell_type": "markdown",
   "metadata": {},
   "source": [
    "## 产生overfitting 和 underfitting的原因"
   ]
  },
  {
   "cell_type": "markdown",
   "metadata": {},
   "source": [
    "![.](2018062509320669.png)"
   ]
  },
  {
   "cell_type": "markdown",
   "metadata": {},
   "source": [
    "```\n",
    "1.Overfitting:\n",
    "    1.  训练集的数量级和模型的复杂度不匹配。训练集的数量级要小于模型的复杂度。\n",
    "\n",
    "    2.  训练集和测试集特征分布不一致。\n",
    "\n",
    "    3.  样本里的噪音数据干扰过大，大到模型过分记住了噪音特征，反而忽略了真实的输入输出间的关系。\n",
    "\n",
    "    4.  权值学习迭代次数足够多(Overtraining)，拟合了训练数据中的噪声和训练样例中没有代表性的特征。\n",
    "    \n",
    "    \n",
    "2.Underfitting:\n",
    "    1.模型复杂度过低\n",
    "    \n",
    "    2.特征量过少\n",
    "```"
   ]
  }
 ],
 "metadata": {
  "kernelspec": {
   "display_name": "Python 3",
   "language": "python",
   "name": "python3"
  },
  "language_info": {
   "codemirror_mode": {
    "name": "ipython",
    "version": 3
   },
   "file_extension": ".py",
   "mimetype": "text/x-python",
   "name": "python",
   "nbconvert_exporter": "python",
   "pygments_lexer": "ipython3",
   "version": "3.6.0"
  }
 },
 "nbformat": 4,
 "nbformat_minor": 2
}
